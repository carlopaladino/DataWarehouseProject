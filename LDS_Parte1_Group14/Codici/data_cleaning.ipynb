{
 "cells": [
  {
   "cell_type": "code",
   "execution_count": 1,
   "metadata": {},
   "outputs": [],
   "source": [
    "import pandas as pd\n",
    "import numpy as np\n",
    "import matplotlib.pyplot as plt"
   ]
  },
  {
   "cell_type": "markdown",
   "metadata": {},
   "source": [
    "# Date"
   ]
  },
  {
   "cell_type": "code",
   "execution_count": 2,
   "metadata": {},
   "outputs": [],
   "source": [
    "date = pd.read_csv('C:\\\\Users\\\\bonin\\\\csv_files\\\\date.csv')"
   ]
  },
  {
   "cell_type": "code",
   "execution_count": 3,
   "metadata": {},
   "outputs": [
    {
     "data": {
      "text/html": [
       "<div>\n",
       "<style scoped>\n",
       "    .dataframe tbody tr th:only-of-type {\n",
       "        vertical-align: middle;\n",
       "    }\n",
       "\n",
       "    .dataframe tbody tr th {\n",
       "        vertical-align: top;\n",
       "    }\n",
       "\n",
       "    .dataframe thead th {\n",
       "        text-align: right;\n",
       "    }\n",
       "</style>\n",
       "<table border=\"1\" class=\"dataframe\">\n",
       "  <thead>\n",
       "    <tr style=\"text-align: right;\">\n",
       "      <th></th>\n",
       "      <th>date_id</th>\n",
       "      <th>year</th>\n",
       "      <th>month</th>\n",
       "      <th>day</th>\n",
       "      <th>quarter</th>\n",
       "    </tr>\n",
       "  </thead>\n",
       "  <tbody>\n",
       "    <tr>\n",
       "      <th>0</th>\n",
       "      <td>20181231</td>\n",
       "      <td>2018</td>\n",
       "      <td>12</td>\n",
       "      <td>31</td>\n",
       "      <td>4</td>\n",
       "    </tr>\n",
       "    <tr>\n",
       "      <th>1</th>\n",
       "      <td>20181231</td>\n",
       "      <td>2018</td>\n",
       "      <td>12</td>\n",
       "      <td>31</td>\n",
       "      <td>4</td>\n",
       "    </tr>\n",
       "    <tr>\n",
       "      <th>2</th>\n",
       "      <td>20181231</td>\n",
       "      <td>2018</td>\n",
       "      <td>12</td>\n",
       "      <td>31</td>\n",
       "      <td>4</td>\n",
       "    </tr>\n",
       "    <tr>\n",
       "      <th>3</th>\n",
       "      <td>20181231</td>\n",
       "      <td>2018</td>\n",
       "      <td>12</td>\n",
       "      <td>31</td>\n",
       "      <td>4</td>\n",
       "    </tr>\n",
       "    <tr>\n",
       "      <th>4</th>\n",
       "      <td>20181231</td>\n",
       "      <td>2018</td>\n",
       "      <td>12</td>\n",
       "      <td>31</td>\n",
       "      <td>4</td>\n",
       "    </tr>\n",
       "  </tbody>\n",
       "</table>\n",
       "</div>"
      ],
      "text/plain": [
       "    date_id  year  month  day  quarter\n",
       "0  20181231  2018     12   31        4\n",
       "1  20181231  2018     12   31        4\n",
       "2  20181231  2018     12   31        4\n",
       "3  20181231  2018     12   31        4\n",
       "4  20181231  2018     12   31        4"
      ]
     },
     "execution_count": 3,
     "metadata": {},
     "output_type": "execute_result"
    }
   ],
   "source": [
    "date.head()"
   ]
  },
  {
   "cell_type": "code",
   "execution_count": 4,
   "metadata": {},
   "outputs": [
    {
     "data": {
      "text/plain": [
       "date_id    0\n",
       "year       0\n",
       "month      0\n",
       "day        0\n",
       "quarter    0\n",
       "dtype: int64"
      ]
     },
     "execution_count": 4,
     "metadata": {},
     "output_type": "execute_result"
    }
   ],
   "source": [
    "date.isnull().sum()"
   ]
  },
  {
   "cell_type": "code",
   "execution_count": 5,
   "metadata": {},
   "outputs": [
    {
     "name": "stdout",
     "output_type": "stream",
     "text": [
      "<class 'pandas.core.frame.DataFrame'>\n",
      "RangeIndex: 186073 entries, 0 to 186072\n",
      "Data columns (total 5 columns):\n",
      "date_id    186073 non-null int64\n",
      "year       186073 non-null int64\n",
      "month      186073 non-null int64\n",
      "day        186073 non-null int64\n",
      "quarter    186073 non-null int64\n",
      "dtypes: int64(5)\n",
      "memory usage: 7.1 MB\n"
     ]
    }
   ],
   "source": [
    "date.info()"
   ]
  },
  {
   "cell_type": "code",
   "execution_count": 6,
   "metadata": {},
   "outputs": [
    {
     "data": {
      "text/html": [
       "<div>\n",
       "<style scoped>\n",
       "    .dataframe tbody tr th:only-of-type {\n",
       "        vertical-align: middle;\n",
       "    }\n",
       "\n",
       "    .dataframe tbody tr th {\n",
       "        vertical-align: top;\n",
       "    }\n",
       "\n",
       "    .dataframe thead th {\n",
       "        text-align: right;\n",
       "    }\n",
       "</style>\n",
       "<table border=\"1\" class=\"dataframe\">\n",
       "  <thead>\n",
       "    <tr style=\"text-align: right;\">\n",
       "      <th></th>\n",
       "      <th>date_id</th>\n",
       "      <th>year</th>\n",
       "      <th>month</th>\n",
       "      <th>day</th>\n",
       "      <th>quarter</th>\n",
       "    </tr>\n",
       "  </thead>\n",
       "  <tbody>\n",
       "    <tr>\n",
       "      <th>count</th>\n",
       "      <td>1.860730e+05</td>\n",
       "      <td>186073.000000</td>\n",
       "      <td>186073.000000</td>\n",
       "      <td>186073.000000</td>\n",
       "      <td>186073.000000</td>\n",
       "    </tr>\n",
       "    <tr>\n",
       "      <th>mean</th>\n",
       "      <td>2.018285e+07</td>\n",
       "      <td>2018.222348</td>\n",
       "      <td>6.144357</td>\n",
       "      <td>15.537074</td>\n",
       "      <td>2.409329</td>\n",
       "    </tr>\n",
       "    <tr>\n",
       "      <th>std</th>\n",
       "      <td>1.607876e+04</td>\n",
       "      <td>1.611626</td>\n",
       "      <td>3.119824</td>\n",
       "      <td>8.789169</td>\n",
       "      <td>1.050138</td>\n",
       "    </tr>\n",
       "    <tr>\n",
       "      <th>min</th>\n",
       "      <td>2.016010e+07</td>\n",
       "      <td>2016.000000</td>\n",
       "      <td>1.000000</td>\n",
       "      <td>1.000000</td>\n",
       "      <td>1.000000</td>\n",
       "    </tr>\n",
       "    <tr>\n",
       "      <th>25%</th>\n",
       "      <td>2.017052e+07</td>\n",
       "      <td>2017.000000</td>\n",
       "      <td>4.000000</td>\n",
       "      <td>8.000000</td>\n",
       "      <td>2.000000</td>\n",
       "    </tr>\n",
       "    <tr>\n",
       "      <th>50%</th>\n",
       "      <td>2.018083e+07</td>\n",
       "      <td>2018.000000</td>\n",
       "      <td>6.000000</td>\n",
       "      <td>15.000000</td>\n",
       "      <td>2.000000</td>\n",
       "    </tr>\n",
       "    <tr>\n",
       "      <th>75%</th>\n",
       "      <td>2.019101e+07</td>\n",
       "      <td>2019.000000</td>\n",
       "      <td>9.000000</td>\n",
       "      <td>23.000000</td>\n",
       "      <td>3.000000</td>\n",
       "    </tr>\n",
       "    <tr>\n",
       "      <th>max</th>\n",
       "      <td>2.021082e+07</td>\n",
       "      <td>2021.000000</td>\n",
       "      <td>12.000000</td>\n",
       "      <td>31.000000</td>\n",
       "      <td>4.000000</td>\n",
       "    </tr>\n",
       "  </tbody>\n",
       "</table>\n",
       "</div>"
      ],
      "text/plain": [
       "            date_id           year          month            day  \\\n",
       "count  1.860730e+05  186073.000000  186073.000000  186073.000000   \n",
       "mean   2.018285e+07    2018.222348       6.144357      15.537074   \n",
       "std    1.607876e+04       1.611626       3.119824       8.789169   \n",
       "min    2.016010e+07    2016.000000       1.000000       1.000000   \n",
       "25%    2.017052e+07    2017.000000       4.000000       8.000000   \n",
       "50%    2.018083e+07    2018.000000       6.000000      15.000000   \n",
       "75%    2.019101e+07    2019.000000       9.000000      23.000000   \n",
       "max    2.021082e+07    2021.000000      12.000000      31.000000   \n",
       "\n",
       "             quarter  \n",
       "count  186073.000000  \n",
       "mean        2.409329  \n",
       "std         1.050138  \n",
       "min         1.000000  \n",
       "25%         2.000000  \n",
       "50%         2.000000  \n",
       "75%         3.000000  \n",
       "max         4.000000  "
      ]
     },
     "execution_count": 6,
     "metadata": {},
     "output_type": "execute_result"
    }
   ],
   "source": [
    "date.describe()"
   ]
  },
  {
   "cell_type": "code",
   "execution_count": 7,
   "metadata": {},
   "outputs": [],
   "source": [
    "date.drop_duplicates(subset=\"date_id\",inplace=True)"
   ]
  },
  {
   "cell_type": "code",
   "execution_count": 8,
   "metadata": {},
   "outputs": [
    {
     "data": {
      "text/plain": [
       "(375, 5)"
      ]
     },
     "execution_count": 8,
     "metadata": {},
     "output_type": "execute_result"
    }
   ],
   "source": [
    "date.shape"
   ]
  },
  {
   "cell_type": "code",
   "execution_count": 9,
   "metadata": {},
   "outputs": [
    {
     "data": {
      "text/html": [
       "<div>\n",
       "<style scoped>\n",
       "    .dataframe tbody tr th:only-of-type {\n",
       "        vertical-align: middle;\n",
       "    }\n",
       "\n",
       "    .dataframe tbody tr th {\n",
       "        vertical-align: top;\n",
       "    }\n",
       "\n",
       "    .dataframe thead th {\n",
       "        text-align: right;\n",
       "    }\n",
       "</style>\n",
       "<table border=\"1\" class=\"dataframe\">\n",
       "  <thead>\n",
       "    <tr style=\"text-align: right;\">\n",
       "      <th></th>\n",
       "      <th>date_id</th>\n",
       "      <th>year</th>\n",
       "      <th>month</th>\n",
       "      <th>day</th>\n",
       "      <th>quarter</th>\n",
       "    </tr>\n",
       "  </thead>\n",
       "  <tbody>\n",
       "    <tr>\n",
       "      <th>0</th>\n",
       "      <td>20181231</td>\n",
       "      <td>2018</td>\n",
       "      <td>12</td>\n",
       "      <td>31</td>\n",
       "      <td>4</td>\n",
       "    </tr>\n",
       "    <tr>\n",
       "      <th>178</th>\n",
       "      <td>20190107</td>\n",
       "      <td>2019</td>\n",
       "      <td>1</td>\n",
       "      <td>7</td>\n",
       "      <td>1</td>\n",
       "    </tr>\n",
       "    <tr>\n",
       "      <th>303</th>\n",
       "      <td>20190114</td>\n",
       "      <td>2019</td>\n",
       "      <td>1</td>\n",
       "      <td>14</td>\n",
       "      <td>1</td>\n",
       "    </tr>\n",
       "    <tr>\n",
       "      <th>781</th>\n",
       "      <td>20190204</td>\n",
       "      <td>2019</td>\n",
       "      <td>2</td>\n",
       "      <td>4</td>\n",
       "      <td>1</td>\n",
       "    </tr>\n",
       "    <tr>\n",
       "      <th>898</th>\n",
       "      <td>20190211</td>\n",
       "      <td>2019</td>\n",
       "      <td>2</td>\n",
       "      <td>11</td>\n",
       "      <td>1</td>\n",
       "    </tr>\n",
       "  </tbody>\n",
       "</table>\n",
       "</div>"
      ],
      "text/plain": [
       "      date_id  year  month  day  quarter\n",
       "0    20181231  2018     12   31        4\n",
       "178  20190107  2019      1    7        1\n",
       "303  20190114  2019      1   14        1\n",
       "781  20190204  2019      2    4        1\n",
       "898  20190211  2019      2   11        1"
      ]
     },
     "execution_count": 9,
     "metadata": {},
     "output_type": "execute_result"
    }
   ],
   "source": [
    "date.head()"
   ]
  },
  {
   "cell_type": "code",
   "execution_count": 10,
   "metadata": {},
   "outputs": [],
   "source": [
    "date.to_csv('C://Users//bonin/csv_files//date_cleaned.csv',index = False)"
   ]
  },
  {
   "cell_type": "markdown",
   "metadata": {},
   "source": [
    "# Tournament"
   ]
  },
  {
   "cell_type": "code",
   "execution_count": 11,
   "metadata": {},
   "outputs": [],
   "source": [
    "tournament = pd.read_csv('C://Users//bonin/csv_files//tournament.csv')"
   ]
  },
  {
   "cell_type": "code",
   "execution_count": 175,
   "metadata": {},
   "outputs": [
    {
     "data": {
      "text/html": [
       "<div>\n",
       "<style scoped>\n",
       "    .dataframe tbody tr th:only-of-type {\n",
       "        vertical-align: middle;\n",
       "    }\n",
       "\n",
       "    .dataframe tbody tr th {\n",
       "        vertical-align: top;\n",
       "    }\n",
       "\n",
       "    .dataframe thead th {\n",
       "        text-align: right;\n",
       "    }\n",
       "</style>\n",
       "<table border=\"1\" class=\"dataframe\">\n",
       "  <thead>\n",
       "    <tr style=\"text-align: right;\">\n",
       "      <th></th>\n",
       "      <th>tourney_id</th>\n",
       "      <th>tourney_date</th>\n",
       "      <th>tourney_name</th>\n",
       "      <th>surface</th>\n",
       "      <th>draw_size</th>\n",
       "      <th>tourney_level</th>\n",
       "      <th>tourney_spectators</th>\n",
       "      <th>tourney_revenue</th>\n",
       "    </tr>\n",
       "  </thead>\n",
       "  <tbody>\n",
       "    <tr>\n",
       "      <th>0</th>\n",
       "      <td>2019-M020</td>\n",
       "      <td>20181231</td>\n",
       "      <td>Brisbane</td>\n",
       "      <td>Hard</td>\n",
       "      <td>32</td>\n",
       "      <td>A</td>\n",
       "      <td>3928</td>\n",
       "      <td>742618.69</td>\n",
       "    </tr>\n",
       "    <tr>\n",
       "      <th>1</th>\n",
       "      <td>2019-M020</td>\n",
       "      <td>20181231</td>\n",
       "      <td>Brisbane</td>\n",
       "      <td>Hard</td>\n",
       "      <td>32</td>\n",
       "      <td>A</td>\n",
       "      <td>3928</td>\n",
       "      <td>742618.69</td>\n",
       "    </tr>\n",
       "    <tr>\n",
       "      <th>2</th>\n",
       "      <td>2019-M020</td>\n",
       "      <td>20181231</td>\n",
       "      <td>Brisbane</td>\n",
       "      <td>Hard</td>\n",
       "      <td>32</td>\n",
       "      <td>A</td>\n",
       "      <td>3928</td>\n",
       "      <td>742618.69</td>\n",
       "    </tr>\n",
       "    <tr>\n",
       "      <th>3</th>\n",
       "      <td>2019-M020</td>\n",
       "      <td>20181231</td>\n",
       "      <td>Brisbane</td>\n",
       "      <td>Hard</td>\n",
       "      <td>32</td>\n",
       "      <td>A</td>\n",
       "      <td>3928</td>\n",
       "      <td>742618.69</td>\n",
       "    </tr>\n",
       "    <tr>\n",
       "      <th>4</th>\n",
       "      <td>2019-M020</td>\n",
       "      <td>20181231</td>\n",
       "      <td>Brisbane</td>\n",
       "      <td>Hard</td>\n",
       "      <td>32</td>\n",
       "      <td>A</td>\n",
       "      <td>3928</td>\n",
       "      <td>742618.69</td>\n",
       "    </tr>\n",
       "  </tbody>\n",
       "</table>\n",
       "</div>"
      ],
      "text/plain": [
       "  tourney_id  tourney_date tourney_name surface  draw_size tourney_level  \\\n",
       "0  2019-M020      20181231     Brisbane    Hard         32             A   \n",
       "1  2019-M020      20181231     Brisbane    Hard         32             A   \n",
       "2  2019-M020      20181231     Brisbane    Hard         32             A   \n",
       "3  2019-M020      20181231     Brisbane    Hard         32             A   \n",
       "4  2019-M020      20181231     Brisbane    Hard         32             A   \n",
       "\n",
       "   tourney_spectators  tourney_revenue  \n",
       "0                3928        742618.69  \n",
       "1                3928        742618.69  \n",
       "2                3928        742618.69  \n",
       "3                3928        742618.69  \n",
       "4                3928        742618.69  "
      ]
     },
     "execution_count": 175,
     "metadata": {},
     "output_type": "execute_result"
    }
   ],
   "source": [
    "tournament.head()"
   ]
  },
  {
   "cell_type": "code",
   "execution_count": 176,
   "metadata": {},
   "outputs": [],
   "source": [
    "tournament.drop_duplicates(subset =\"tourney_id\", inplace = True)"
   ]
  },
  {
   "cell_type": "code",
   "execution_count": 177,
   "metadata": {},
   "outputs": [
    {
     "data": {
      "text/plain": [
       "(4853, 8)"
      ]
     },
     "execution_count": 177,
     "metadata": {},
     "output_type": "execute_result"
    }
   ],
   "source": [
    "tournament.shape"
   ]
  },
  {
   "cell_type": "code",
   "execution_count": 178,
   "metadata": {},
   "outputs": [
    {
     "data": {
      "text/html": [
       "<div>\n",
       "<style scoped>\n",
       "    .dataframe tbody tr th:only-of-type {\n",
       "        vertical-align: middle;\n",
       "    }\n",
       "\n",
       "    .dataframe tbody tr th {\n",
       "        vertical-align: top;\n",
       "    }\n",
       "\n",
       "    .dataframe thead th {\n",
       "        text-align: right;\n",
       "    }\n",
       "</style>\n",
       "<table border=\"1\" class=\"dataframe\">\n",
       "  <thead>\n",
       "    <tr style=\"text-align: right;\">\n",
       "      <th></th>\n",
       "      <th>tourney_id</th>\n",
       "      <th>tourney_date</th>\n",
       "      <th>tourney_name</th>\n",
       "      <th>surface</th>\n",
       "      <th>draw_size</th>\n",
       "      <th>tourney_level</th>\n",
       "      <th>tourney_spectators</th>\n",
       "      <th>tourney_revenue</th>\n",
       "    </tr>\n",
       "  </thead>\n",
       "  <tbody>\n",
       "    <tr>\n",
       "      <th>0</th>\n",
       "      <td>2019-M020</td>\n",
       "      <td>20181231</td>\n",
       "      <td>Brisbane</td>\n",
       "      <td>Hard</td>\n",
       "      <td>32</td>\n",
       "      <td>A</td>\n",
       "      <td>3928</td>\n",
       "      <td>742618.69</td>\n",
       "    </tr>\n",
       "    <tr>\n",
       "      <th>96</th>\n",
       "      <td>2019-0451</td>\n",
       "      <td>20181231</td>\n",
       "      <td>Doha</td>\n",
       "      <td>Hard</td>\n",
       "      <td>32</td>\n",
       "      <td>A</td>\n",
       "      <td>2923</td>\n",
       "      <td>550943.19</td>\n",
       "    </tr>\n",
       "    <tr>\n",
       "      <th>139</th>\n",
       "      <td>2019-0891</td>\n",
       "      <td>20181231</td>\n",
       "      <td>Pune</td>\n",
       "      <td>Hard</td>\n",
       "      <td>32</td>\n",
       "      <td>A</td>\n",
       "      <td>4062</td>\n",
       "      <td>1005592.39</td>\n",
       "    </tr>\n",
       "    <tr>\n",
       "      <th>178</th>\n",
       "      <td>2019-0301</td>\n",
       "      <td>20190107</td>\n",
       "      <td>Auckland</td>\n",
       "      <td>Hard</td>\n",
       "      <td>32</td>\n",
       "      <td>A</td>\n",
       "      <td>2784</td>\n",
       "      <td>489426.09</td>\n",
       "    </tr>\n",
       "    <tr>\n",
       "      <th>217</th>\n",
       "      <td>2019-M001</td>\n",
       "      <td>20190107</td>\n",
       "      <td>Sydney</td>\n",
       "      <td>Hard</td>\n",
       "      <td>32</td>\n",
       "      <td>A</td>\n",
       "      <td>3258</td>\n",
       "      <td>567644.24</td>\n",
       "    </tr>\n",
       "  </tbody>\n",
       "</table>\n",
       "</div>"
      ],
      "text/plain": [
       "    tourney_id  tourney_date tourney_name surface  draw_size tourney_level  \\\n",
       "0    2019-M020      20181231     Brisbane    Hard         32             A   \n",
       "96   2019-0451      20181231         Doha    Hard         32             A   \n",
       "139  2019-0891      20181231         Pune    Hard         32             A   \n",
       "178  2019-0301      20190107     Auckland    Hard         32             A   \n",
       "217  2019-M001      20190107       Sydney    Hard         32             A   \n",
       "\n",
       "     tourney_spectators  tourney_revenue  \n",
       "0                  3928        742618.69  \n",
       "96                 2923        550943.19  \n",
       "139                4062       1005592.39  \n",
       "178                2784        489426.09  \n",
       "217                3258        567644.24  "
      ]
     },
     "execution_count": 178,
     "metadata": {},
     "output_type": "execute_result"
    }
   ],
   "source": [
    "tournament.head()"
   ]
  },
  {
   "cell_type": "code",
   "execution_count": 179,
   "metadata": {},
   "outputs": [
    {
     "data": {
      "text/plain": [
       "tourney_id             0\n",
       "tourney_date           0\n",
       "tourney_name           0\n",
       "surface               62\n",
       "draw_size              0\n",
       "tourney_level          0\n",
       "tourney_spectators     0\n",
       "tourney_revenue        0\n",
       "dtype: int64"
      ]
     },
     "execution_count": 179,
     "metadata": {},
     "output_type": "execute_result"
    }
   ],
   "source": [
    "tournament.isnull().sum()"
   ]
  },
  {
   "cell_type": "code",
   "execution_count": 180,
   "metadata": {},
   "outputs": [
    {
     "data": {
      "text/plain": [
       "Hard      2558\n",
       "Clay      2042\n",
       "Grass      103\n",
       "Carpet      88\n",
       "Name: surface, dtype: int64"
      ]
     },
     "execution_count": 180,
     "metadata": {},
     "output_type": "execute_result"
    }
   ],
   "source": [
    "tournament['surface'].value_counts()"
   ]
  },
  {
   "cell_type": "code",
   "execution_count": 181,
   "metadata": {},
   "outputs": [],
   "source": [
    "tournament['surface'].fillna(limit = 34,value='Hard', inplace=True)"
   ]
  },
  {
   "cell_type": "code",
   "execution_count": 182,
   "metadata": {},
   "outputs": [],
   "source": [
    "tournament['surface'].fillna(value='Clay', inplace=True)"
   ]
  },
  {
   "cell_type": "code",
   "execution_count": 183,
   "metadata": {},
   "outputs": [
    {
     "data": {
      "text/plain": [
       "tourney_id            0\n",
       "tourney_date          0\n",
       "tourney_name          0\n",
       "surface               0\n",
       "draw_size             0\n",
       "tourney_level         0\n",
       "tourney_spectators    0\n",
       "tourney_revenue       0\n",
       "dtype: int64"
      ]
     },
     "execution_count": 183,
     "metadata": {},
     "output_type": "execute_result"
    }
   ],
   "source": [
    "tournament.isnull().sum()"
   ]
  },
  {
   "cell_type": "code",
   "execution_count": 184,
   "metadata": {},
   "outputs": [
    {
     "data": {
      "text/html": [
       "<div>\n",
       "<style scoped>\n",
       "    .dataframe tbody tr th:only-of-type {\n",
       "        vertical-align: middle;\n",
       "    }\n",
       "\n",
       "    .dataframe tbody tr th {\n",
       "        vertical-align: top;\n",
       "    }\n",
       "\n",
       "    .dataframe thead th {\n",
       "        text-align: right;\n",
       "    }\n",
       "</style>\n",
       "<table border=\"1\" class=\"dataframe\">\n",
       "  <thead>\n",
       "    <tr style=\"text-align: right;\">\n",
       "      <th></th>\n",
       "      <th>tourney_date</th>\n",
       "      <th>draw_size</th>\n",
       "      <th>tourney_spectators</th>\n",
       "      <th>tourney_revenue</th>\n",
       "    </tr>\n",
       "  </thead>\n",
       "  <tbody>\n",
       "    <tr>\n",
       "      <th>count</th>\n",
       "      <td>4.853000e+03</td>\n",
       "      <td>4853.000000</td>\n",
       "      <td>4853.000000</td>\n",
       "      <td>4.853000e+03</td>\n",
       "    </tr>\n",
       "    <tr>\n",
       "      <th>mean</th>\n",
       "      <td>2.018035e+07</td>\n",
       "      <td>29.052545</td>\n",
       "      <td>2915.778900</td>\n",
       "      <td>5.821028e+05</td>\n",
       "    </tr>\n",
       "    <tr>\n",
       "      <th>std</th>\n",
       "      <td>1.534445e+04</td>\n",
       "      <td>16.567840</td>\n",
       "      <td>1800.475159</td>\n",
       "      <td>3.788686e+05</td>\n",
       "    </tr>\n",
       "    <tr>\n",
       "      <th>min</th>\n",
       "      <td>2.016010e+07</td>\n",
       "      <td>2.000000</td>\n",
       "      <td>91.000000</td>\n",
       "      <td>1.786574e+04</td>\n",
       "    </tr>\n",
       "    <tr>\n",
       "      <th>25%</th>\n",
       "      <td>2.017021e+07</td>\n",
       "      <td>32.000000</td>\n",
       "      <td>2311.000000</td>\n",
       "      <td>4.316581e+05</td>\n",
       "    </tr>\n",
       "    <tr>\n",
       "      <th>50%</th>\n",
       "      <td>2.018042e+07</td>\n",
       "      <td>32.000000</td>\n",
       "      <td>3063.000000</td>\n",
       "      <td>5.943168e+05</td>\n",
       "    </tr>\n",
       "    <tr>\n",
       "      <th>75%</th>\n",
       "      <td>2.019072e+07</td>\n",
       "      <td>32.000000</td>\n",
       "      <td>3628.000000</td>\n",
       "      <td>7.354139e+05</td>\n",
       "    </tr>\n",
       "    <tr>\n",
       "      <th>max</th>\n",
       "      <td>2.021082e+07</td>\n",
       "      <td>128.000000</td>\n",
       "      <td>18086.000000</td>\n",
       "      <td>5.002794e+06</td>\n",
       "    </tr>\n",
       "  </tbody>\n",
       "</table>\n",
       "</div>"
      ],
      "text/plain": [
       "       tourney_date    draw_size  tourney_spectators  tourney_revenue\n",
       "count  4.853000e+03  4853.000000         4853.000000     4.853000e+03\n",
       "mean   2.018035e+07    29.052545         2915.778900     5.821028e+05\n",
       "std    1.534445e+04    16.567840         1800.475159     3.788686e+05\n",
       "min    2.016010e+07     2.000000           91.000000     1.786574e+04\n",
       "25%    2.017021e+07    32.000000         2311.000000     4.316581e+05\n",
       "50%    2.018042e+07    32.000000         3063.000000     5.943168e+05\n",
       "75%    2.019072e+07    32.000000         3628.000000     7.354139e+05\n",
       "max    2.021082e+07   128.000000        18086.000000     5.002794e+06"
      ]
     },
     "execution_count": 184,
     "metadata": {},
     "output_type": "execute_result"
    }
   ],
   "source": [
    "tournament.describe()"
   ]
  },
  {
   "cell_type": "code",
   "execution_count": 185,
   "metadata": {},
   "outputs": [
    {
     "name": "stdout",
     "output_type": "stream",
     "text": [
      "<class 'pandas.core.frame.DataFrame'>\n",
      "Int64Index: 4853 entries, 0 to 186018\n",
      "Data columns (total 8 columns):\n",
      "tourney_id            4853 non-null object\n",
      "tourney_date          4853 non-null int64\n",
      "tourney_name          4853 non-null object\n",
      "surface               4853 non-null object\n",
      "draw_size             4853 non-null int64\n",
      "tourney_level         4853 non-null object\n",
      "tourney_spectators    4853 non-null int64\n",
      "tourney_revenue       4853 non-null float64\n",
      "dtypes: float64(1), int64(3), object(4)\n",
      "memory usage: 341.2+ KB\n"
     ]
    }
   ],
   "source": [
    "tournament.info()"
   ]
  },
  {
   "cell_type": "code",
   "execution_count": 186,
   "metadata": {},
   "outputs": [],
   "source": [
    "tournament.to_csv('C://Users//bonin/csv_files//tournament_cleaned.csv',index = False)"
   ]
  },
  {
   "cell_type": "markdown",
   "metadata": {},
   "source": [
    "# Geography"
   ]
  },
  {
   "cell_type": "code",
   "execution_count": 187,
   "metadata": {},
   "outputs": [],
   "source": [
    "geography = pd.read_csv(\"C://Users//bonin//csv_files//geography.csv\",header=None)"
   ]
  },
  {
   "cell_type": "code",
   "execution_count": 188,
   "metadata": {},
   "outputs": [],
   "source": [
    "geography.columns = [\"country_ioc\",\"country\",\"continent\",\"language\"]"
   ]
  },
  {
   "cell_type": "code",
   "execution_count": 189,
   "metadata": {},
   "outputs": [
    {
     "data": {
      "text/html": [
       "<div>\n",
       "<style scoped>\n",
       "    .dataframe tbody tr th:only-of-type {\n",
       "        vertical-align: middle;\n",
       "    }\n",
       "\n",
       "    .dataframe tbody tr th {\n",
       "        vertical-align: top;\n",
       "    }\n",
       "\n",
       "    .dataframe thead th {\n",
       "        text-align: right;\n",
       "    }\n",
       "</style>\n",
       "<table border=\"1\" class=\"dataframe\">\n",
       "  <thead>\n",
       "    <tr style=\"text-align: right;\">\n",
       "      <th></th>\n",
       "      <th>country_ioc</th>\n",
       "      <th>country</th>\n",
       "      <th>continent</th>\n",
       "      <th>language</th>\n",
       "    </tr>\n",
       "  </thead>\n",
       "  <tbody>\n",
       "    <tr>\n",
       "      <th>0</th>\n",
       "      <td>JPN</td>\n",
       "      <td>Japan</td>\n",
       "      <td>Asia</td>\n",
       "      <td>Japanese</td>\n",
       "    </tr>\n",
       "    <tr>\n",
       "      <th>1</th>\n",
       "      <td>RUS</td>\n",
       "      <td>Russia</td>\n",
       "      <td>Europe</td>\n",
       "      <td>Yakut</td>\n",
       "    </tr>\n",
       "    <tr>\n",
       "      <th>2</th>\n",
       "      <td>FRA</td>\n",
       "      <td>France</td>\n",
       "      <td>Europe</td>\n",
       "      <td>Occitan</td>\n",
       "    </tr>\n",
       "    <tr>\n",
       "      <th>3</th>\n",
       "      <td>AUS</td>\n",
       "      <td>Australia</td>\n",
       "      <td>Oceania</td>\n",
       "      <td>English</td>\n",
       "    </tr>\n",
       "    <tr>\n",
       "      <th>4</th>\n",
       "      <td>CAN</td>\n",
       "      <td>Canada</td>\n",
       "      <td>America</td>\n",
       "      <td>Mohawk</td>\n",
       "    </tr>\n",
       "  </tbody>\n",
       "</table>\n",
       "</div>"
      ],
      "text/plain": [
       "  country_ioc    country continent  language\n",
       "0         JPN      Japan      Asia  Japanese\n",
       "1         RUS     Russia    Europe     Yakut\n",
       "2         FRA     France    Europe   Occitan\n",
       "3         AUS  Australia   Oceania   English\n",
       "4         CAN     Canada   America    Mohawk"
      ]
     },
     "execution_count": 189,
     "metadata": {},
     "output_type": "execute_result"
    }
   ],
   "source": [
    "geography.head()"
   ]
  },
  {
   "cell_type": "code",
   "execution_count": 190,
   "metadata": {},
   "outputs": [
    {
     "data": {
      "text/plain": [
       "(117, 4)"
      ]
     },
     "execution_count": 190,
     "metadata": {},
     "output_type": "execute_result"
    }
   ],
   "source": [
    "geography.shape"
   ]
  },
  {
   "cell_type": "code",
   "execution_count": 191,
   "metadata": {},
   "outputs": [
    {
     "data": {
      "text/plain": [
       "0"
      ]
     },
     "execution_count": 191,
     "metadata": {},
     "output_type": "execute_result"
    }
   ],
   "source": [
    "geography.duplicated(subset=\"country_ioc\").sum()"
   ]
  },
  {
   "cell_type": "code",
   "execution_count": 192,
   "metadata": {},
   "outputs": [
    {
     "name": "stdout",
     "output_type": "stream",
     "text": [
      "<class 'pandas.core.frame.DataFrame'>\n",
      "RangeIndex: 117 entries, 0 to 116\n",
      "Data columns (total 4 columns):\n",
      "country_ioc    117 non-null object\n",
      "country        117 non-null object\n",
      "continent      117 non-null object\n",
      "language       117 non-null object\n",
      "dtypes: object(4)\n",
      "memory usage: 3.8+ KB\n"
     ]
    }
   ],
   "source": [
    "geography.info()"
   ]
  },
  {
   "cell_type": "code",
   "execution_count": 193,
   "metadata": {},
   "outputs": [
    {
     "data": {
      "text/html": [
       "<div>\n",
       "<style scoped>\n",
       "    .dataframe tbody tr th:only-of-type {\n",
       "        vertical-align: middle;\n",
       "    }\n",
       "\n",
       "    .dataframe tbody tr th {\n",
       "        vertical-align: top;\n",
       "    }\n",
       "\n",
       "    .dataframe thead th {\n",
       "        text-align: right;\n",
       "    }\n",
       "</style>\n",
       "<table border=\"1\" class=\"dataframe\">\n",
       "  <thead>\n",
       "    <tr style=\"text-align: right;\">\n",
       "      <th></th>\n",
       "      <th>country_ioc</th>\n",
       "      <th>country</th>\n",
       "      <th>continent</th>\n",
       "      <th>language</th>\n",
       "    </tr>\n",
       "  </thead>\n",
       "  <tbody>\n",
       "    <tr>\n",
       "      <th>6</th>\n",
       "      <td>GBR</td>\n",
       "      <td>Great Britain</td>\n",
       "      <td>Europe</td>\n",
       "      <td>Unknown</td>\n",
       "    </tr>\n",
       "    <tr>\n",
       "      <th>8</th>\n",
       "      <td>USA</td>\n",
       "      <td>United States of America</td>\n",
       "      <td>America</td>\n",
       "      <td>Unknown</td>\n",
       "    </tr>\n",
       "    <tr>\n",
       "      <th>27</th>\n",
       "      <td>NZL</td>\n",
       "      <td>New Zeland</td>\n",
       "      <td>Oceania</td>\n",
       "      <td>Unknown</td>\n",
       "    </tr>\n",
       "    <tr>\n",
       "      <th>34</th>\n",
       "      <td>URU</td>\n",
       "      <td>Urugay</td>\n",
       "      <td>America</td>\n",
       "      <td>Unknown</td>\n",
       "    </tr>\n",
       "    <tr>\n",
       "      <th>87</th>\n",
       "      <td>MKD</td>\n",
       "      <td>North Macedonia</td>\n",
       "      <td>Europe</td>\n",
       "      <td>Unknown</td>\n",
       "    </tr>\n",
       "    <tr>\n",
       "      <th>97</th>\n",
       "      <td>REU</td>\n",
       "      <td>Reunion</td>\n",
       "      <td>Africa</td>\n",
       "      <td>Unknown</td>\n",
       "    </tr>\n",
       "    <tr>\n",
       "      <th>98</th>\n",
       "      <td>UNK</td>\n",
       "      <td>Kosovo</td>\n",
       "      <td>Europe</td>\n",
       "      <td>Unknown</td>\n",
       "    </tr>\n",
       "  </tbody>\n",
       "</table>\n",
       "</div>"
      ],
      "text/plain": [
       "   country_ioc                   country continent language\n",
       "6          GBR             Great Britain    Europe  Unknown\n",
       "8          USA  United States of America   America  Unknown\n",
       "27         NZL                New Zeland   Oceania  Unknown\n",
       "34         URU                    Urugay   America  Unknown\n",
       "87         MKD           North Macedonia    Europe  Unknown\n",
       "97         REU                   Reunion    Africa  Unknown\n",
       "98         UNK                    Kosovo    Europe  Unknown"
      ]
     },
     "execution_count": 193,
     "metadata": {},
     "output_type": "execute_result"
    }
   ],
   "source": [
    "geography[geography.language == \"Unknown\"]"
   ]
  },
  {
   "cell_type": "code",
   "execution_count": 194,
   "metadata": {},
   "outputs": [],
   "source": [
    "geography.loc[6,\"language\"] = \"English\"\n",
    "geography.loc[8,\"language\"] = \"English\"\n",
    "geography.loc[27,\"language\"] = \"English\"\n",
    "geography.loc[34,\"language\"] = \"Spanish\"\n",
    "geography.loc[87,\"language\"] = \"Macedonian\"\n",
    "geography.loc[97,\"language\"] = \"French\"\n",
    "geography.loc[98,\"language\"] = \"Albanian\"\n"
   ]
  },
  {
   "cell_type": "code",
   "execution_count": 195,
   "metadata": {},
   "outputs": [
    {
     "data": {
      "text/html": [
       "<div>\n",
       "<style scoped>\n",
       "    .dataframe tbody tr th:only-of-type {\n",
       "        vertical-align: middle;\n",
       "    }\n",
       "\n",
       "    .dataframe tbody tr th {\n",
       "        vertical-align: top;\n",
       "    }\n",
       "\n",
       "    .dataframe thead th {\n",
       "        text-align: right;\n",
       "    }\n",
       "</style>\n",
       "<table border=\"1\" class=\"dataframe\">\n",
       "  <thead>\n",
       "    <tr style=\"text-align: right;\">\n",
       "      <th></th>\n",
       "      <th>country_ioc</th>\n",
       "      <th>country</th>\n",
       "      <th>continent</th>\n",
       "      <th>language</th>\n",
       "    </tr>\n",
       "  </thead>\n",
       "  <tbody>\n",
       "    <tr>\n",
       "      <th>33</th>\n",
       "      <td>MDA</td>\n",
       "      <td>Moldova</td>\n",
       "      <td>Europe</td>\n",
       "      <td></td>\n",
       "    </tr>\n",
       "    <tr>\n",
       "      <th>37</th>\n",
       "      <td>CYP</td>\n",
       "      <td>Cyprus</td>\n",
       "      <td>Europe</td>\n",
       "      <td></td>\n",
       "    </tr>\n",
       "    <tr>\n",
       "      <th>51</th>\n",
       "      <td>BAR</td>\n",
       "      <td>Barbados</td>\n",
       "      <td>America</td>\n",
       "      <td></td>\n",
       "    </tr>\n",
       "    <tr>\n",
       "      <th>78</th>\n",
       "      <td>PNG</td>\n",
       "      <td>Papua New Guinea</td>\n",
       "      <td>Oceania</td>\n",
       "      <td></td>\n",
       "    </tr>\n",
       "    <tr>\n",
       "      <th>81</th>\n",
       "      <td>GRN</td>\n",
       "      <td>Grenada</td>\n",
       "      <td>Europe</td>\n",
       "      <td></td>\n",
       "    </tr>\n",
       "    <tr>\n",
       "      <th>82</th>\n",
       "      <td>BAH</td>\n",
       "      <td>Bahamas</td>\n",
       "      <td>America</td>\n",
       "      <td></td>\n",
       "    </tr>\n",
       "    <tr>\n",
       "      <th>83</th>\n",
       "      <td>CUB</td>\n",
       "      <td>Cuba</td>\n",
       "      <td>America</td>\n",
       "      <td></td>\n",
       "    </tr>\n",
       "    <tr>\n",
       "      <th>90</th>\n",
       "      <td>BDI</td>\n",
       "      <td>Burundi</td>\n",
       "      <td>Africa</td>\n",
       "      <td></td>\n",
       "    </tr>\n",
       "    <tr>\n",
       "      <th>91</th>\n",
       "      <td>MRI</td>\n",
       "      <td>Mauritius</td>\n",
       "      <td>Africa</td>\n",
       "      <td></td>\n",
       "    </tr>\n",
       "    <tr>\n",
       "      <th>93</th>\n",
       "      <td>SAM</td>\n",
       "      <td>Samoa</td>\n",
       "      <td>Oceania</td>\n",
       "      <td></td>\n",
       "    </tr>\n",
       "    <tr>\n",
       "      <th>96</th>\n",
       "      <td>NAM</td>\n",
       "      <td>Namibia</td>\n",
       "      <td>Africa</td>\n",
       "      <td></td>\n",
       "    </tr>\n",
       "    <tr>\n",
       "      <th>100</th>\n",
       "      <td>HAI</td>\n",
       "      <td>Haiti</td>\n",
       "      <td>America</td>\n",
       "      <td></td>\n",
       "    </tr>\n",
       "    <tr>\n",
       "      <th>108</th>\n",
       "      <td>GUM</td>\n",
       "      <td>Guam</td>\n",
       "      <td>Oceania</td>\n",
       "      <td></td>\n",
       "    </tr>\n",
       "    <tr>\n",
       "      <th>109</th>\n",
       "      <td>GAB</td>\n",
       "      <td>Gabon</td>\n",
       "      <td>Africa</td>\n",
       "      <td></td>\n",
       "    </tr>\n",
       "    <tr>\n",
       "      <th>111</th>\n",
       "      <td>GUD</td>\n",
       "      <td>Guadeloupe</td>\n",
       "      <td>America</td>\n",
       "      <td></td>\n",
       "    </tr>\n",
       "    <tr>\n",
       "      <th>113</th>\n",
       "      <td>CMR</td>\n",
       "      <td>Cameroon</td>\n",
       "      <td>Africa</td>\n",
       "      <td></td>\n",
       "    </tr>\n",
       "    <tr>\n",
       "      <th>115</th>\n",
       "      <td>MAD</td>\n",
       "      <td>Madagascar</td>\n",
       "      <td>Africa</td>\n",
       "      <td></td>\n",
       "    </tr>\n",
       "    <tr>\n",
       "      <th>116</th>\n",
       "      <td>AND</td>\n",
       "      <td>Andorra</td>\n",
       "      <td>Europe</td>\n",
       "      <td></td>\n",
       "    </tr>\n",
       "  </tbody>\n",
       "</table>\n",
       "</div>"
      ],
      "text/plain": [
       "    country_ioc           country continent language\n",
       "33          MDA           Moldova    Europe         \n",
       "37          CYP            Cyprus    Europe         \n",
       "51          BAR          Barbados   America         \n",
       "78          PNG  Papua New Guinea   Oceania         \n",
       "81          GRN           Grenada    Europe         \n",
       "82          BAH           Bahamas   America         \n",
       "83          CUB              Cuba   America         \n",
       "90          BDI           Burundi    Africa         \n",
       "91          MRI         Mauritius    Africa         \n",
       "93          SAM             Samoa   Oceania         \n",
       "96          NAM           Namibia    Africa         \n",
       "100         HAI             Haiti   America         \n",
       "108         GUM              Guam   Oceania         \n",
       "109         GAB             Gabon    Africa         \n",
       "111         GUD        Guadeloupe   America         \n",
       "113         CMR          Cameroon    Africa         \n",
       "115         MAD        Madagascar    Africa         \n",
       "116         AND           Andorra    Europe         "
      ]
     },
     "execution_count": 195,
     "metadata": {},
     "output_type": "execute_result"
    }
   ],
   "source": [
    "geography[geography.language == \" \"]"
   ]
  },
  {
   "cell_type": "code",
   "execution_count": 196,
   "metadata": {},
   "outputs": [],
   "source": [
    "geography.language.replace(\" \",np.nan,inplace=True)"
   ]
  },
  {
   "cell_type": "code",
   "execution_count": 197,
   "metadata": {},
   "outputs": [
    {
     "data": {
      "text/html": [
       "<div>\n",
       "<style scoped>\n",
       "    .dataframe tbody tr th:only-of-type {\n",
       "        vertical-align: middle;\n",
       "    }\n",
       "\n",
       "    .dataframe tbody tr th {\n",
       "        vertical-align: top;\n",
       "    }\n",
       "\n",
       "    .dataframe thead th {\n",
       "        text-align: right;\n",
       "    }\n",
       "</style>\n",
       "<table border=\"1\" class=\"dataframe\">\n",
       "  <thead>\n",
       "    <tr style=\"text-align: right;\">\n",
       "      <th></th>\n",
       "      <th>country_ioc</th>\n",
       "      <th>country</th>\n",
       "      <th>continent</th>\n",
       "      <th>language</th>\n",
       "    </tr>\n",
       "  </thead>\n",
       "  <tbody>\n",
       "  </tbody>\n",
       "</table>\n",
       "</div>"
      ],
      "text/plain": [
       "Empty DataFrame\n",
       "Columns: [country_ioc, country, continent, language]\n",
       "Index: []"
      ]
     },
     "execution_count": 197,
     "metadata": {},
     "output_type": "execute_result"
    }
   ],
   "source": [
    "geography[geography.language == \" \"]"
   ]
  },
  {
   "cell_type": "code",
   "execution_count": 198,
   "metadata": {},
   "outputs": [
    {
     "data": {
      "text/plain": [
       "country_ioc     0\n",
       "country         0\n",
       "continent       0\n",
       "language       18\n",
       "dtype: int64"
      ]
     },
     "execution_count": 198,
     "metadata": {},
     "output_type": "execute_result"
    }
   ],
   "source": [
    "geography.isnull().sum()"
   ]
  },
  {
   "cell_type": "code",
   "execution_count": 199,
   "metadata": {
    "scrolled": true
   },
   "outputs": [
    {
     "data": {
      "text/plain": [
       "Spanish             18\n",
       "English              8\n",
       "Arabic               6\n",
       "French               3\n",
       "Serbian (Latin)      3\n",
       "                    ..\n",
       "Polish               1\n",
       "Kyrgyz               1\n",
       "Frisian              1\n",
       "Italian              1\n",
       "Tajik (Cyrillic)     1\n",
       "Name: language, Length: 62, dtype: int64"
      ]
     },
     "execution_count": 199,
     "metadata": {},
     "output_type": "execute_result"
    }
   ],
   "source": [
    "geography.language.value_counts()"
   ]
  },
  {
   "cell_type": "code",
   "execution_count": 200,
   "metadata": {},
   "outputs": [],
   "source": [
    "geography.language.fillna(\"Spanish\",inplace=True)"
   ]
  },
  {
   "cell_type": "code",
   "execution_count": 201,
   "metadata": {},
   "outputs": [
    {
     "data": {
      "text/plain": [
       "country_ioc    0\n",
       "country        0\n",
       "continent      0\n",
       "language       0\n",
       "dtype: int64"
      ]
     },
     "execution_count": 201,
     "metadata": {},
     "output_type": "execute_result"
    }
   ],
   "source": [
    "geography.isnull().sum()"
   ]
  },
  {
   "cell_type": "code",
   "execution_count": 202,
   "metadata": {},
   "outputs": [],
   "source": [
    "geography.to_csv('C://Users//bonin//csv_files//geography_cleaned.csv',index = False)"
   ]
  },
  {
   "cell_type": "markdown",
   "metadata": {},
   "source": [
    "# Match"
   ]
  },
  {
   "cell_type": "code",
   "execution_count": 203,
   "metadata": {},
   "outputs": [],
   "source": [
    "match = pd.read_csv(\"C://Users//bonin//csv_files//match.csv\")"
   ]
  },
  {
   "cell_type": "code",
   "execution_count": 204,
   "metadata": {},
   "outputs": [
    {
     "data": {
      "text/html": [
       "<div>\n",
       "<style scoped>\n",
       "    .dataframe tbody tr th:only-of-type {\n",
       "        vertical-align: middle;\n",
       "    }\n",
       "\n",
       "    .dataframe tbody tr th {\n",
       "        vertical-align: top;\n",
       "    }\n",
       "\n",
       "    .dataframe thead th {\n",
       "        text-align: right;\n",
       "    }\n",
       "</style>\n",
       "<table border=\"1\" class=\"dataframe\">\n",
       "  <thead>\n",
       "    <tr style=\"text-align: right;\">\n",
       "      <th></th>\n",
       "      <th>tourney_id</th>\n",
       "      <th>match_id</th>\n",
       "      <th>winner_id</th>\n",
       "      <th>loser_id</th>\n",
       "      <th>score</th>\n",
       "      <th>best_of</th>\n",
       "      <th>round</th>\n",
       "      <th>minutes</th>\n",
       "      <th>w_ace</th>\n",
       "      <th>w_df</th>\n",
       "      <th>...</th>\n",
       "      <th>l_1stIn</th>\n",
       "      <th>l_1stWon</th>\n",
       "      <th>l_2ndWon</th>\n",
       "      <th>l_SvGms</th>\n",
       "      <th>l_bpSaved</th>\n",
       "      <th>l_bpFaced</th>\n",
       "      <th>winner_rank</th>\n",
       "      <th>winner_rank_points</th>\n",
       "      <th>loser_rank</th>\n",
       "      <th>loser_rank_points</th>\n",
       "    </tr>\n",
       "  </thead>\n",
       "  <tbody>\n",
       "    <tr>\n",
       "      <th>0</th>\n",
       "      <td>2019-M020</td>\n",
       "      <td>2019-M020300</td>\n",
       "      <td>105453</td>\n",
       "      <td>106421</td>\n",
       "      <td>6-4 3-6 6-2</td>\n",
       "      <td>3</td>\n",
       "      <td>F</td>\n",
       "      <td>124.0</td>\n",
       "      <td>3.0</td>\n",
       "      <td>3.0</td>\n",
       "      <td>...</td>\n",
       "      <td>54.0</td>\n",
       "      <td>34.0</td>\n",
       "      <td>20.0</td>\n",
       "      <td>14.0</td>\n",
       "      <td>10.0</td>\n",
       "      <td>15.0</td>\n",
       "      <td>9.0</td>\n",
       "      <td>3590.0</td>\n",
       "      <td>16.0</td>\n",
       "      <td>1977.0</td>\n",
       "    </tr>\n",
       "    <tr>\n",
       "      <th>1</th>\n",
       "      <td>2019-M020</td>\n",
       "      <td>2019-M020299</td>\n",
       "      <td>106421</td>\n",
       "      <td>104542</td>\n",
       "      <td>7-6(6) 6-2</td>\n",
       "      <td>3</td>\n",
       "      <td>SF</td>\n",
       "      <td>82.0</td>\n",
       "      <td>10.0</td>\n",
       "      <td>1.0</td>\n",
       "      <td>...</td>\n",
       "      <td>52.0</td>\n",
       "      <td>36.0</td>\n",
       "      <td>7.0</td>\n",
       "      <td>10.0</td>\n",
       "      <td>10.0</td>\n",
       "      <td>13.0</td>\n",
       "      <td>16.0</td>\n",
       "      <td>1977.0</td>\n",
       "      <td>239.0</td>\n",
       "      <td>200.0</td>\n",
       "    </tr>\n",
       "    <tr>\n",
       "      <th>2</th>\n",
       "      <td>2019-M020</td>\n",
       "      <td>2019-M020298</td>\n",
       "      <td>105453</td>\n",
       "      <td>104871</td>\n",
       "      <td>6-2 6-2</td>\n",
       "      <td>3</td>\n",
       "      <td>SF</td>\n",
       "      <td>66.0</td>\n",
       "      <td>2.0</td>\n",
       "      <td>2.0</td>\n",
       "      <td>...</td>\n",
       "      <td>27.0</td>\n",
       "      <td>15.0</td>\n",
       "      <td>6.0</td>\n",
       "      <td>8.0</td>\n",
       "      <td>1.0</td>\n",
       "      <td>5.0</td>\n",
       "      <td>9.0</td>\n",
       "      <td>3590.0</td>\n",
       "      <td>40.0</td>\n",
       "      <td>1050.0</td>\n",
       "    </tr>\n",
       "    <tr>\n",
       "      <th>3</th>\n",
       "      <td>2019-M020</td>\n",
       "      <td>2019-M020297</td>\n",
       "      <td>104542</td>\n",
       "      <td>200282</td>\n",
       "      <td>6-4 7-6(2)</td>\n",
       "      <td>3</td>\n",
       "      <td>QF</td>\n",
       "      <td>106.0</td>\n",
       "      <td>12.0</td>\n",
       "      <td>2.0</td>\n",
       "      <td>...</td>\n",
       "      <td>60.0</td>\n",
       "      <td>38.0</td>\n",
       "      <td>9.0</td>\n",
       "      <td>11.0</td>\n",
       "      <td>4.0</td>\n",
       "      <td>6.0</td>\n",
       "      <td>239.0</td>\n",
       "      <td>200.0</td>\n",
       "      <td>31.0</td>\n",
       "      <td>1298.0</td>\n",
       "    </tr>\n",
       "    <tr>\n",
       "      <th>4</th>\n",
       "      <td>2019-M020</td>\n",
       "      <td>2019-M020296</td>\n",
       "      <td>106421</td>\n",
       "      <td>105683</td>\n",
       "      <td>6-7(2) 6-3 6-4</td>\n",
       "      <td>3</td>\n",
       "      <td>QF</td>\n",
       "      <td>129.0</td>\n",
       "      <td>12.0</td>\n",
       "      <td>3.0</td>\n",
       "      <td>...</td>\n",
       "      <td>56.0</td>\n",
       "      <td>46.0</td>\n",
       "      <td>19.0</td>\n",
       "      <td>15.0</td>\n",
       "      <td>2.0</td>\n",
       "      <td>4.0</td>\n",
       "      <td>16.0</td>\n",
       "      <td>1977.0</td>\n",
       "      <td>18.0</td>\n",
       "      <td>1855.0</td>\n",
       "    </tr>\n",
       "  </tbody>\n",
       "</table>\n",
       "<p>5 rows × 30 columns</p>\n",
       "</div>"
      ],
      "text/plain": [
       "  tourney_id      match_id  winner_id  loser_id           score  best_of  \\\n",
       "0  2019-M020  2019-M020300     105453    106421     6-4 3-6 6-2        3   \n",
       "1  2019-M020  2019-M020299     106421    104542      7-6(6) 6-2        3   \n",
       "2  2019-M020  2019-M020298     105453    104871         6-2 6-2        3   \n",
       "3  2019-M020  2019-M020297     104542    200282      6-4 7-6(2)        3   \n",
       "4  2019-M020  2019-M020296     106421    105683  6-7(2) 6-3 6-4        3   \n",
       "\n",
       "  round  minutes  w_ace  w_df  ...  l_1stIn  l_1stWon  l_2ndWon  l_SvGms  \\\n",
       "0     F    124.0    3.0   3.0  ...     54.0      34.0      20.0     14.0   \n",
       "1    SF     82.0   10.0   1.0  ...     52.0      36.0       7.0     10.0   \n",
       "2    SF     66.0    2.0   2.0  ...     27.0      15.0       6.0      8.0   \n",
       "3    QF    106.0   12.0   2.0  ...     60.0      38.0       9.0     11.0   \n",
       "4    QF    129.0   12.0   3.0  ...     56.0      46.0      19.0     15.0   \n",
       "\n",
       "   l_bpSaved  l_bpFaced  winner_rank  winner_rank_points  loser_rank  \\\n",
       "0       10.0       15.0          9.0              3590.0        16.0   \n",
       "1       10.0       13.0         16.0              1977.0       239.0   \n",
       "2        1.0        5.0          9.0              3590.0        40.0   \n",
       "3        4.0        6.0        239.0               200.0        31.0   \n",
       "4        2.0        4.0         16.0              1977.0        18.0   \n",
       "\n",
       "   loser_rank_points  \n",
       "0             1977.0  \n",
       "1              200.0  \n",
       "2             1050.0  \n",
       "3             1298.0  \n",
       "4             1855.0  \n",
       "\n",
       "[5 rows x 30 columns]"
      ]
     },
     "execution_count": 204,
     "metadata": {},
     "output_type": "execute_result"
    }
   ],
   "source": [
    "match.head()"
   ]
  },
  {
   "cell_type": "code",
   "execution_count": 205,
   "metadata": {},
   "outputs": [],
   "source": [
    "match.drop_duplicates(subset=\"match_id\",inplace=True)"
   ]
  },
  {
   "cell_type": "code",
   "execution_count": 206,
   "metadata": {},
   "outputs": [
    {
     "data": {
      "text/plain": [
       "(158393, 30)"
      ]
     },
     "execution_count": 206,
     "metadata": {},
     "output_type": "execute_result"
    }
   ],
   "source": [
    "match.shape"
   ]
  },
  {
   "cell_type": "code",
   "execution_count": 207,
   "metadata": {},
   "outputs": [
    {
     "name": "stdout",
     "output_type": "stream",
     "text": [
      "<class 'pandas.core.frame.DataFrame'>\n",
      "Int64Index: 158393 entries, 0 to 186048\n",
      "Data columns (total 30 columns):\n",
      "tourney_id            158393 non-null object\n",
      "match_id              158393 non-null object\n",
      "winner_id             158393 non-null int64\n",
      "loser_id              158393 non-null int64\n",
      "score                 158247 non-null object\n",
      "best_of               158393 non-null int64\n",
      "round                 158393 non-null object\n",
      "minutes               72967 non-null float64\n",
      "w_ace                 73620 non-null float64\n",
      "w_df                  73620 non-null float64\n",
      "w_svpt                73620 non-null float64\n",
      "w_1stIn               73620 non-null float64\n",
      "w_1stWon              73620 non-null float64\n",
      "w_2ndWon              73620 non-null float64\n",
      "w_SvGms               73623 non-null float64\n",
      "w_bpSaved             73620 non-null float64\n",
      "w_bpFaced             73620 non-null float64\n",
      "l_ace                 73620 non-null float64\n",
      "l_df                  73620 non-null float64\n",
      "l_svpt                73620 non-null float64\n",
      "l_1stIn               73620 non-null float64\n",
      "l_1stWon              73620 non-null float64\n",
      "l_2ndWon              73620 non-null float64\n",
      "l_SvGms               73623 non-null float64\n",
      "l_bpSaved             73620 non-null float64\n",
      "l_bpFaced             73620 non-null float64\n",
      "winner_rank           146291 non-null float64\n",
      "winner_rank_points    146275 non-null float64\n",
      "loser_rank            133375 non-null float64\n",
      "loser_rank_points     133359 non-null float64\n",
      "dtypes: float64(23), int64(3), object(4)\n",
      "memory usage: 37.5+ MB\n"
     ]
    }
   ],
   "source": [
    "match.info()"
   ]
  },
  {
   "cell_type": "code",
   "execution_count": 208,
   "metadata": {},
   "outputs": [
    {
     "data": {
      "text/plain": [
       "tourney_id                0\n",
       "match_id                  0\n",
       "winner_id                 0\n",
       "loser_id                  0\n",
       "score                   146\n",
       "best_of                   0\n",
       "round                     0\n",
       "minutes               85426\n",
       "w_ace                 84773\n",
       "w_df                  84773\n",
       "w_svpt                84773\n",
       "w_1stIn               84773\n",
       "w_1stWon              84773\n",
       "w_2ndWon              84773\n",
       "w_SvGms               84770\n",
       "w_bpSaved             84773\n",
       "w_bpFaced             84773\n",
       "l_ace                 84773\n",
       "l_df                  84773\n",
       "l_svpt                84773\n",
       "l_1stIn               84773\n",
       "l_1stWon              84773\n",
       "l_2ndWon              84773\n",
       "l_SvGms               84770\n",
       "l_bpSaved             84773\n",
       "l_bpFaced             84773\n",
       "winner_rank           12102\n",
       "winner_rank_points    12118\n",
       "loser_rank            25018\n",
       "loser_rank_points     25034\n",
       "dtype: int64"
      ]
     },
     "execution_count": 208,
     "metadata": {},
     "output_type": "execute_result"
    }
   ],
   "source": [
    "match.isnull().sum()"
   ]
  },
  {
   "cell_type": "code",
   "execution_count": 209,
   "metadata": {},
   "outputs": [],
   "source": [
    "# drop all columns that has >50% missing values"
   ]
  },
  {
   "cell_type": "code",
   "execution_count": 210,
   "metadata": {},
   "outputs": [],
   "source": [
    "match = match[[\"tourney_id\",\"match_id\",\"winner_id\",\"loser_id\",\"score\",\"best_of\",\"round\",\"winner_rank\",\"winner_rank_points\",\"loser_rank\",\"loser_rank_points\"]]"
   ]
  },
  {
   "cell_type": "code",
   "execution_count": 211,
   "metadata": {},
   "outputs": [
    {
     "data": {
      "text/plain": [
       "tourney_id                0\n",
       "match_id                  0\n",
       "winner_id                 0\n",
       "loser_id                  0\n",
       "score                   146\n",
       "best_of                   0\n",
       "round                     0\n",
       "winner_rank           12102\n",
       "winner_rank_points    12118\n",
       "loser_rank            25018\n",
       "loser_rank_points     25034\n",
       "dtype: int64"
      ]
     },
     "execution_count": 211,
     "metadata": {},
     "output_type": "execute_result"
    }
   ],
   "source": [
    "match.isnull().sum()"
   ]
  },
  {
   "cell_type": "code",
   "execution_count": 212,
   "metadata": {},
   "outputs": [],
   "source": [
    "match.dropna(subset=[\"score\"],inplace=True)"
   ]
  },
  {
   "cell_type": "code",
   "execution_count": 213,
   "metadata": {},
   "outputs": [],
   "source": [
    "match.winner_rank.fillna(match.winner_rank.median(),inplace=True)\n",
    "match.winner_rank_points.fillna(match.winner_rank_points.median(),inplace=True)\n",
    "match.loser_rank.fillna(match.loser_rank.median(),inplace=True)\n",
    "match.loser_rank_points.fillna(match.loser_rank_points.median(),inplace=True)"
   ]
  },
  {
   "cell_type": "code",
   "execution_count": 214,
   "metadata": {},
   "outputs": [
    {
     "name": "stdout",
     "output_type": "stream",
     "text": [
      "<class 'pandas.core.frame.DataFrame'>\n",
      "Int64Index: 158247 entries, 0 to 186048\n",
      "Data columns (total 11 columns):\n",
      "tourney_id            158247 non-null object\n",
      "match_id              158247 non-null object\n",
      "winner_id             158247 non-null int64\n",
      "loser_id              158247 non-null int64\n",
      "score                 158247 non-null object\n",
      "best_of               158247 non-null int64\n",
      "round                 158247 non-null object\n",
      "winner_rank           158247 non-null float64\n",
      "winner_rank_points    158247 non-null float64\n",
      "loser_rank            158247 non-null float64\n",
      "loser_rank_points     158247 non-null float64\n",
      "dtypes: float64(4), int64(3), object(4)\n",
      "memory usage: 14.5+ MB\n"
     ]
    }
   ],
   "source": [
    "match.info()"
   ]
  },
  {
   "cell_type": "code",
   "execution_count": 215,
   "metadata": {},
   "outputs": [],
   "source": [
    "match.winner_rank = match.winner_rank.astype(\"int64\")"
   ]
  },
  {
   "cell_type": "code",
   "execution_count": 216,
   "metadata": {},
   "outputs": [],
   "source": [
    "match.winner_rank_points = match.winner_rank_points.astype(\"int64\")"
   ]
  },
  {
   "cell_type": "code",
   "execution_count": 217,
   "metadata": {},
   "outputs": [],
   "source": [
    "match.loser_rank = match.loser_rank.astype(\"int64\")"
   ]
  },
  {
   "cell_type": "code",
   "execution_count": 218,
   "metadata": {},
   "outputs": [],
   "source": [
    "match.loser_rank_points = match.loser_rank_points.astype(\"int64\")"
   ]
  },
  {
   "cell_type": "code",
   "execution_count": 219,
   "metadata": {},
   "outputs": [],
   "source": [
    "x = set(player.id_player)\n",
    "y = set(match.winner_id)\n",
    "z = set(match.loser_id)\n",
    "fine = y.union(z)\n",
    "tmp = set()\n",
    "\n",
    "for i in fine:\n",
    "    if i not in x:\n",
    "        tmp.add(i)"
   ]
  },
  {
   "cell_type": "code",
   "execution_count": 220,
   "metadata": {},
   "outputs": [],
   "source": [
    "match = match[~match['winner_id'].isin(tmp)]\n",
    "match = match[~match['loser_id'].isin(tmp)]"
   ]
  },
  {
   "cell_type": "code",
   "execution_count": 221,
   "metadata": {},
   "outputs": [
    {
     "name": "stdout",
     "output_type": "stream",
     "text": [
      "<class 'pandas.core.frame.DataFrame'>\n",
      "Int64Index: 158207 entries, 0 to 186048\n",
      "Data columns (total 11 columns):\n",
      "tourney_id            158207 non-null object\n",
      "match_id              158207 non-null object\n",
      "winner_id             158207 non-null int64\n",
      "loser_id              158207 non-null int64\n",
      "score                 158207 non-null object\n",
      "best_of               158207 non-null int64\n",
      "round                 158207 non-null object\n",
      "winner_rank           158207 non-null int64\n",
      "winner_rank_points    158207 non-null int64\n",
      "loser_rank            158207 non-null int64\n",
      "loser_rank_points     158207 non-null int64\n",
      "dtypes: int64(7), object(4)\n",
      "memory usage: 14.5+ MB\n"
     ]
    }
   ],
   "source": [
    "match.info()"
   ]
  },
  {
   "cell_type": "code",
   "execution_count": 222,
   "metadata": {},
   "outputs": [
    {
     "data": {
      "text/plain": [
       "tourney_id            0\n",
       "match_id              0\n",
       "winner_id             0\n",
       "loser_id              0\n",
       "score                 0\n",
       "best_of               0\n",
       "round                 0\n",
       "winner_rank           0\n",
       "winner_rank_points    0\n",
       "loser_rank            0\n",
       "loser_rank_points     0\n",
       "dtype: int64"
      ]
     },
     "execution_count": 222,
     "metadata": {},
     "output_type": "execute_result"
    }
   ],
   "source": [
    "match.isnull().sum()"
   ]
  },
  {
   "cell_type": "code",
   "execution_count": 223,
   "metadata": {},
   "outputs": [],
   "source": [
    "match.to_csv('C://Users//bonin//csv_files//match_cleaned.csv',index = False)"
   ]
  },
  {
   "cell_type": "markdown",
   "metadata": {},
   "source": [
    "# Player"
   ]
  },
  {
   "cell_type": "code",
   "execution_count": 224,
   "metadata": {},
   "outputs": [],
   "source": [
    "player=pd.read_csv(\"C://Users//bonin//csv_files//player.csv\",header=None)"
   ]
  },
  {
   "cell_type": "code",
   "execution_count": 225,
   "metadata": {},
   "outputs": [],
   "source": [
    "player.columns = [\"id_player\",\"name\",\"sex\",\"country\",\"ht\",\"hand\",\"birth_year\"]"
   ]
  },
  {
   "cell_type": "code",
   "execution_count": 226,
   "metadata": {},
   "outputs": [
    {
     "data": {
      "text/html": [
       "<div>\n",
       "<style scoped>\n",
       "    .dataframe tbody tr th:only-of-type {\n",
       "        vertical-align: middle;\n",
       "    }\n",
       "\n",
       "    .dataframe tbody tr th {\n",
       "        vertical-align: top;\n",
       "    }\n",
       "\n",
       "    .dataframe thead th {\n",
       "        text-align: right;\n",
       "    }\n",
       "</style>\n",
       "<table border=\"1\" class=\"dataframe\">\n",
       "  <thead>\n",
       "    <tr style=\"text-align: right;\">\n",
       "      <th></th>\n",
       "      <th>id_player</th>\n",
       "      <th>name</th>\n",
       "      <th>sex</th>\n",
       "      <th>country</th>\n",
       "      <th>ht</th>\n",
       "      <th>hand</th>\n",
       "      <th>birth_year</th>\n",
       "    </tr>\n",
       "  </thead>\n",
       "  <tbody>\n",
       "    <tr>\n",
       "      <th>0</th>\n",
       "      <td>105453</td>\n",
       "      <td>Kei Nishikori</td>\n",
       "      <td>M</td>\n",
       "      <td>JPN</td>\n",
       "      <td>178.0</td>\n",
       "      <td>R</td>\n",
       "      <td>1989</td>\n",
       "    </tr>\n",
       "    <tr>\n",
       "      <th>1</th>\n",
       "      <td>106421</td>\n",
       "      <td>Daniil Medvedev</td>\n",
       "      <td>M</td>\n",
       "      <td>RUS</td>\n",
       "      <td>198.0</td>\n",
       "      <td>R</td>\n",
       "      <td>1995</td>\n",
       "    </tr>\n",
       "    <tr>\n",
       "      <th>2</th>\n",
       "      <td>104542</td>\n",
       "      <td>Jo-Wilfried Tsonga</td>\n",
       "      <td>Null</td>\n",
       "      <td>FRA</td>\n",
       "      <td>188.0</td>\n",
       "      <td>R</td>\n",
       "      <td>1985</td>\n",
       "    </tr>\n",
       "    <tr>\n",
       "      <th>3</th>\n",
       "      <td>104871</td>\n",
       "      <td>Jeremy Chardy</td>\n",
       "      <td>M</td>\n",
       "      <td>FRA</td>\n",
       "      <td>188.0</td>\n",
       "      <td>R</td>\n",
       "      <td>1986</td>\n",
       "    </tr>\n",
       "    <tr>\n",
       "      <th>4</th>\n",
       "      <td>200282</td>\n",
       "      <td>Alex De Minaur</td>\n",
       "      <td>M</td>\n",
       "      <td>AUS</td>\n",
       "      <td>183.0</td>\n",
       "      <td>R</td>\n",
       "      <td>1999</td>\n",
       "    </tr>\n",
       "  </tbody>\n",
       "</table>\n",
       "</div>"
      ],
      "text/plain": [
       "   id_player                name   sex country     ht hand  birth_year\n",
       "0     105453       Kei Nishikori     M     JPN  178.0    R        1989\n",
       "1     106421     Daniil Medvedev     M     RUS  198.0    R        1995\n",
       "2     104542  Jo-Wilfried Tsonga  Null     FRA  188.0    R        1985\n",
       "3     104871       Jeremy Chardy     M     FRA  188.0    R        1986\n",
       "4     200282      Alex De Minaur     M     AUS  183.0    R        1999"
      ]
     },
     "execution_count": 226,
     "metadata": {},
     "output_type": "execute_result"
    }
   ],
   "source": [
    "player.head()"
   ]
  },
  {
   "cell_type": "code",
   "execution_count": 227,
   "metadata": {},
   "outputs": [
    {
     "data": {
      "text/plain": [
       "(10104, 7)"
      ]
     },
     "execution_count": 227,
     "metadata": {},
     "output_type": "execute_result"
    }
   ],
   "source": [
    "player.shape"
   ]
  },
  {
   "cell_type": "code",
   "execution_count": 228,
   "metadata": {},
   "outputs": [
    {
     "data": {
      "text/plain": [
       "id_player     0\n",
       "name          0\n",
       "sex           0\n",
       "country       0\n",
       "ht            0\n",
       "hand          0\n",
       "birth_year    0\n",
       "dtype: int64"
      ]
     },
     "execution_count": 228,
     "metadata": {},
     "output_type": "execute_result"
    }
   ],
   "source": [
    "player.isnull().sum()"
   ]
  },
  {
   "cell_type": "code",
   "execution_count": 229,
   "metadata": {},
   "outputs": [],
   "source": [
    "player.drop_duplicates(subset=\"id_player\",inplace=True)"
   ]
  },
  {
   "cell_type": "code",
   "execution_count": 230,
   "metadata": {},
   "outputs": [
    {
     "data": {
      "text/plain": [
       "(10055, 7)"
      ]
     },
     "execution_count": 230,
     "metadata": {},
     "output_type": "execute_result"
    }
   ],
   "source": [
    "player.shape"
   ]
  },
  {
   "cell_type": "code",
   "execution_count": 231,
   "metadata": {},
   "outputs": [
    {
     "name": "stdout",
     "output_type": "stream",
     "text": [
      "<class 'pandas.core.frame.DataFrame'>\n",
      "Int64Index: 10055 entries, 0 to 10103\n",
      "Data columns (total 7 columns):\n",
      "id_player     10055 non-null int64\n",
      "name          10055 non-null object\n",
      "sex           10055 non-null object\n",
      "country       10055 non-null object\n",
      "ht            10055 non-null object\n",
      "hand          10055 non-null object\n",
      "birth_year    10055 non-null int64\n",
      "dtypes: int64(2), object(5)\n",
      "memory usage: 628.4+ KB\n"
     ]
    }
   ],
   "source": [
    "player.info()  "
   ]
  },
  {
   "cell_type": "code",
   "execution_count": 232,
   "metadata": {},
   "outputs": [],
   "source": [
    "player.loc[2,\"sex\"] = \"M\"\n",
    "player.loc[27,\"sex\"] = \"M\"\n",
    "player.loc[62,\"sex\"] = \"M\"\n",
    "player.loc[63,\"sex\"] = \"M\"\n",
    "player.loc[102,\"sex\"] = \"M\"\n",
    "player.loc[160,\"sex\"] = \"M\"\n",
    "player.loc[189,\"sex\"] = \"M\"\n",
    "player.loc[200,\"sex\"] = \"M\"\n",
    "player.loc[201,\"sex\"] = \"M\"\n",
    "player.loc[208,\"sex\"] = \"M\"\n",
    "player.loc[244,\"sex\"] = \"M\"\n",
    "player.loc[337,\"sex\"] = \"M\"\n",
    "player.loc[344,\"sex\"] = \"M\"\n",
    "player.loc[526,\"sex\"] = \"M\"\n",
    "player.loc[550,\"sex\"] = \"M\"\n",
    "player.loc[558,\"sex\"] = \"M\"\n",
    "player.loc[791,\"sex\"] = \"M\"\n",
    "player.loc[827,\"sex\"] = \"M\"\n",
    "player.loc[838,\"sex\"] = \"M\"\n",
    "player.loc[839,\"sex\"] = \"M\"\n",
    "player.loc[854,\"sex\"] = \"M\"\n",
    "player.loc[873,\"sex\"] = \"M\"\n",
    "player.loc[897,\"sex\"] = \"M\"\n",
    "player.loc[1034,\"sex\"] = \"M\"\n",
    "player.loc[1036,\"sex\"] = \"M\"\n",
    "player.loc[1899,\"sex\"] = \"F\"\n",
    "player.loc[3184,\"sex\"] = \"F\"\n",
    "player.loc[4502,\"sex\"] = \"M\"\n",
    "player.loc[4589,\"sex\"] = \"M\"\n",
    "player.loc[4699,\"sex\"] = \"M\"\n",
    "player.loc[5610,\"sex\"] = \"M\"\n",
    "player.loc[5928,\"sex\"] = \"M\"\n",
    "player.loc[6365,\"sex\"] = \"M\"\n",
    "player.loc[6375,\"sex\"] = \"M\""
   ]
  },
  {
   "cell_type": "code",
   "execution_count": 233,
   "metadata": {},
   "outputs": [
    {
     "data": {
      "text/html": [
       "<div>\n",
       "<style scoped>\n",
       "    .dataframe tbody tr th:only-of-type {\n",
       "        vertical-align: middle;\n",
       "    }\n",
       "\n",
       "    .dataframe tbody tr th {\n",
       "        vertical-align: top;\n",
       "    }\n",
       "\n",
       "    .dataframe thead th {\n",
       "        text-align: right;\n",
       "    }\n",
       "</style>\n",
       "<table border=\"1\" class=\"dataframe\">\n",
       "  <thead>\n",
       "    <tr style=\"text-align: right;\">\n",
       "      <th></th>\n",
       "      <th>id_player</th>\n",
       "      <th>name</th>\n",
       "      <th>sex</th>\n",
       "      <th>country</th>\n",
       "      <th>ht</th>\n",
       "      <th>hand</th>\n",
       "      <th>birth_year</th>\n",
       "    </tr>\n",
       "  </thead>\n",
       "  <tbody>\n",
       "    <tr>\n",
       "      <th>6</th>\n",
       "      <td>106034</td>\n",
       "      <td>Yasutaka Uchiyama</td>\n",
       "      <td>M</td>\n",
       "      <td>JPN</td>\n",
       "      <td>Null</td>\n",
       "      <td>R</td>\n",
       "      <td>1992</td>\n",
       "    </tr>\n",
       "    <tr>\n",
       "      <th>8</th>\n",
       "      <td>106121</td>\n",
       "      <td>Taro Daniel</td>\n",
       "      <td>M</td>\n",
       "      <td>JPN</td>\n",
       "      <td>Null</td>\n",
       "      <td>R</td>\n",
       "      <td>1993</td>\n",
       "    </tr>\n",
       "    <tr>\n",
       "      <th>16</th>\n",
       "      <td>106423</td>\n",
       "      <td>Thanasi Kokkinakis</td>\n",
       "      <td>M</td>\n",
       "      <td>AUS</td>\n",
       "      <td>Null</td>\n",
       "      <td>R</td>\n",
       "      <td>1996</td>\n",
       "    </tr>\n",
       "    <tr>\n",
       "      <th>17</th>\n",
       "      <td>106109</td>\n",
       "      <td>Alex Bolt</td>\n",
       "      <td>M</td>\n",
       "      <td>AUS</td>\n",
       "      <td>Null</td>\n",
       "      <td>L</td>\n",
       "      <td>1992</td>\n",
       "    </tr>\n",
       "    <tr>\n",
       "      <th>28</th>\n",
       "      <td>215018</td>\n",
       "      <td>Destanee Aiava</td>\n",
       "      <td>F</td>\n",
       "      <td>AUS</td>\n",
       "      <td>Null</td>\n",
       "      <td>R</td>\n",
       "      <td>2000</td>\n",
       "    </tr>\n",
       "    <tr>\n",
       "      <th>...</th>\n",
       "      <td>...</td>\n",
       "      <td>...</td>\n",
       "      <td>...</td>\n",
       "      <td>...</td>\n",
       "      <td>...</td>\n",
       "      <td>...</td>\n",
       "      <td>...</td>\n",
       "    </tr>\n",
       "    <tr>\n",
       "      <th>10099</th>\n",
       "      <td>203535</td>\n",
       "      <td>Sultan Gonen</td>\n",
       "      <td>F</td>\n",
       "      <td>TUR</td>\n",
       "      <td>Null</td>\n",
       "      <td>R</td>\n",
       "      <td>1996</td>\n",
       "    </tr>\n",
       "    <tr>\n",
       "      <th>10100</th>\n",
       "      <td>223075</td>\n",
       "      <td>Madeleine Jessup</td>\n",
       "      <td>F</td>\n",
       "      <td>USA</td>\n",
       "      <td>Null</td>\n",
       "      <td>U</td>\n",
       "      <td>0</td>\n",
       "    </tr>\n",
       "    <tr>\n",
       "      <th>10101</th>\n",
       "      <td>223216</td>\n",
       "      <td>Katie Codd</td>\n",
       "      <td>F</td>\n",
       "      <td>USA</td>\n",
       "      <td>Null</td>\n",
       "      <td>U</td>\n",
       "      <td>0</td>\n",
       "    </tr>\n",
       "    <tr>\n",
       "      <th>10102</th>\n",
       "      <td>223217</td>\n",
       "      <td>Amy Huang</td>\n",
       "      <td>F</td>\n",
       "      <td>USA</td>\n",
       "      <td>Null</td>\n",
       "      <td>U</td>\n",
       "      <td>0</td>\n",
       "    </tr>\n",
       "    <tr>\n",
       "      <th>10103</th>\n",
       "      <td>223451</td>\n",
       "      <td>Chloe Henderson</td>\n",
       "      <td>F</td>\n",
       "      <td>USA</td>\n",
       "      <td>Null</td>\n",
       "      <td>U</td>\n",
       "      <td>0</td>\n",
       "    </tr>\n",
       "  </tbody>\n",
       "</table>\n",
       "<p>9516 rows × 7 columns</p>\n",
       "</div>"
      ],
      "text/plain": [
       "       id_player                name sex country    ht hand  birth_year\n",
       "6         106034   Yasutaka Uchiyama   M     JPN  Null    R        1992\n",
       "8         106121         Taro Daniel   M     JPN  Null    R        1993\n",
       "16        106423  Thanasi Kokkinakis   M     AUS  Null    R        1996\n",
       "17        106109           Alex Bolt   M     AUS  Null    L        1992\n",
       "28        215018      Destanee Aiava   F     AUS  Null    R        2000\n",
       "...          ...                 ...  ..     ...   ...  ...         ...\n",
       "10099     203535        Sultan Gonen   F     TUR  Null    R        1996\n",
       "10100     223075    Madeleine Jessup   F     USA  Null    U           0\n",
       "10101     223216          Katie Codd   F     USA  Null    U           0\n",
       "10102     223217           Amy Huang   F     USA  Null    U           0\n",
       "10103     223451     Chloe Henderson   F     USA  Null    U           0\n",
       "\n",
       "[9516 rows x 7 columns]"
      ]
     },
     "execution_count": 233,
     "metadata": {},
     "output_type": "execute_result"
    }
   ],
   "source": [
    "player[player.ht==\"Null\"]              # REMOVE 9565 missing valules su 10055"
   ]
  },
  {
   "cell_type": "code",
   "execution_count": 234,
   "metadata": {
    "scrolled": false
   },
   "outputs": [
    {
     "data": {
      "text/html": [
       "<div>\n",
       "<style scoped>\n",
       "    .dataframe tbody tr th:only-of-type {\n",
       "        vertical-align: middle;\n",
       "    }\n",
       "\n",
       "    .dataframe tbody tr th {\n",
       "        vertical-align: top;\n",
       "    }\n",
       "\n",
       "    .dataframe thead th {\n",
       "        text-align: right;\n",
       "    }\n",
       "</style>\n",
       "<table border=\"1\" class=\"dataframe\">\n",
       "  <thead>\n",
       "    <tr style=\"text-align: right;\">\n",
       "      <th></th>\n",
       "      <th>id_player</th>\n",
       "      <th>name</th>\n",
       "      <th>sex</th>\n",
       "      <th>country</th>\n",
       "      <th>ht</th>\n",
       "      <th>hand</th>\n",
       "      <th>birth_year</th>\n",
       "    </tr>\n",
       "  </thead>\n",
       "  <tbody>\n",
       "    <tr>\n",
       "      <th>40</th>\n",
       "      <td>214040</td>\n",
       "      <td>Kimberly Birrell</td>\n",
       "      <td>F</td>\n",
       "      <td>AUS</td>\n",
       "      <td>Null</td>\n",
       "      <td>U</td>\n",
       "      <td>1998</td>\n",
       "    </tr>\n",
       "    <tr>\n",
       "      <th>66</th>\n",
       "      <td>134329</td>\n",
       "      <td>Blake Ellis</td>\n",
       "      <td>M</td>\n",
       "      <td>AUS</td>\n",
       "      <td>Null</td>\n",
       "      <td>U</td>\n",
       "      <td>2000</td>\n",
       "    </tr>\n",
       "    <tr>\n",
       "      <th>84</th>\n",
       "      <td>211941</td>\n",
       "      <td>Zoe Hives</td>\n",
       "      <td>F</td>\n",
       "      <td>AUS</td>\n",
       "      <td>Null</td>\n",
       "      <td>U</td>\n",
       "      <td>1998</td>\n",
       "    </tr>\n",
       "    <tr>\n",
       "      <th>119</th>\n",
       "      <td>122570</td>\n",
       "      <td>Mubarak Shannan Zayid</td>\n",
       "      <td>M</td>\n",
       "      <td>QAT</td>\n",
       "      <td>Null</td>\n",
       "      <td>U</td>\n",
       "      <td>1995</td>\n",
       "    </tr>\n",
       "    <tr>\n",
       "      <th>130</th>\n",
       "      <td>106325</td>\n",
       "      <td>Jabor Al Mutawa</td>\n",
       "      <td>M</td>\n",
       "      <td>QAT</td>\n",
       "      <td>Null</td>\n",
       "      <td>U</td>\n",
       "      <td>1996</td>\n",
       "    </tr>\n",
       "    <tr>\n",
       "      <th>...</th>\n",
       "      <td>...</td>\n",
       "      <td>...</td>\n",
       "      <td>...</td>\n",
       "      <td>...</td>\n",
       "      <td>...</td>\n",
       "      <td>...</td>\n",
       "      <td>...</td>\n",
       "    </tr>\n",
       "    <tr>\n",
       "      <th>10098</th>\n",
       "      <td>225861</td>\n",
       "      <td>Viktoria Veleva</td>\n",
       "      <td>F</td>\n",
       "      <td>BUL</td>\n",
       "      <td>Null</td>\n",
       "      <td>U</td>\n",
       "      <td>0</td>\n",
       "    </tr>\n",
       "    <tr>\n",
       "      <th>10100</th>\n",
       "      <td>223075</td>\n",
       "      <td>Madeleine Jessup</td>\n",
       "      <td>F</td>\n",
       "      <td>USA</td>\n",
       "      <td>Null</td>\n",
       "      <td>U</td>\n",
       "      <td>0</td>\n",
       "    </tr>\n",
       "    <tr>\n",
       "      <th>10101</th>\n",
       "      <td>223216</td>\n",
       "      <td>Katie Codd</td>\n",
       "      <td>F</td>\n",
       "      <td>USA</td>\n",
       "      <td>Null</td>\n",
       "      <td>U</td>\n",
       "      <td>0</td>\n",
       "    </tr>\n",
       "    <tr>\n",
       "      <th>10102</th>\n",
       "      <td>223217</td>\n",
       "      <td>Amy Huang</td>\n",
       "      <td>F</td>\n",
       "      <td>USA</td>\n",
       "      <td>Null</td>\n",
       "      <td>U</td>\n",
       "      <td>0</td>\n",
       "    </tr>\n",
       "    <tr>\n",
       "      <th>10103</th>\n",
       "      <td>223451</td>\n",
       "      <td>Chloe Henderson</td>\n",
       "      <td>F</td>\n",
       "      <td>USA</td>\n",
       "      <td>Null</td>\n",
       "      <td>U</td>\n",
       "      <td>0</td>\n",
       "    </tr>\n",
       "  </tbody>\n",
       "</table>\n",
       "<p>6265 rows × 7 columns</p>\n",
       "</div>"
      ],
      "text/plain": [
       "       id_player                   name sex country    ht hand  birth_year\n",
       "40        214040       Kimberly Birrell   F     AUS  Null    U        1998\n",
       "66        134329            Blake Ellis   M     AUS  Null    U        2000\n",
       "84        211941              Zoe Hives   F     AUS  Null    U        1998\n",
       "119       122570  Mubarak Shannan Zayid   M     QAT  Null    U        1995\n",
       "130       106325        Jabor Al Mutawa   M     QAT  Null    U        1996\n",
       "...          ...                    ...  ..     ...   ...  ...         ...\n",
       "10098     225861        Viktoria Veleva   F     BUL  Null    U           0\n",
       "10100     223075       Madeleine Jessup   F     USA  Null    U           0\n",
       "10101     223216             Katie Codd   F     USA  Null    U           0\n",
       "10102     223217              Amy Huang   F     USA  Null    U           0\n",
       "10103     223451        Chloe Henderson   F     USA  Null    U           0\n",
       "\n",
       "[6265 rows x 7 columns]"
      ]
     },
     "execution_count": 234,
     "metadata": {},
     "output_type": "execute_result"
    }
   ],
   "source": [
    "player[player.hand==\"U\"]        # REMOVE 6299 missing values su 10055"
   ]
  },
  {
   "cell_type": "code",
   "execution_count": 235,
   "metadata": {},
   "outputs": [],
   "source": [
    "player.loc[player.birth_year==0,\"birth_year\"] = player[\"birth_year\"].median()"
   ]
  },
  {
   "cell_type": "code",
   "execution_count": 236,
   "metadata": {},
   "outputs": [],
   "source": [
    "player.drop(columns= [\"hand\",\"ht\"],inplace=True)"
   ]
  },
  {
   "cell_type": "code",
   "execution_count": 237,
   "metadata": {},
   "outputs": [],
   "source": [
    "co = set()\n",
    "for i in geography.country_ioc:\n",
    "    co.add(i)"
   ]
  },
  {
   "cell_type": "code",
   "execution_count": 238,
   "metadata": {},
   "outputs": [],
   "source": [
    "for i,j in enumerate(player.country):\n",
    "    if j not in co:\n",
    "        player.loc[i,\"country\"] = \"Null\" "
   ]
  },
  {
   "cell_type": "code",
   "execution_count": 239,
   "metadata": {},
   "outputs": [],
   "source": [
    "player['country'] = player['country'].apply(lambda x: 'Null' if x not in co else x)"
   ]
  },
  {
   "cell_type": "code",
   "execution_count": 240,
   "metadata": {},
   "outputs": [
    {
     "data": {
      "text/html": [
       "<div>\n",
       "<style scoped>\n",
       "    .dataframe tbody tr th:only-of-type {\n",
       "        vertical-align: middle;\n",
       "    }\n",
       "\n",
       "    .dataframe tbody tr th {\n",
       "        vertical-align: top;\n",
       "    }\n",
       "\n",
       "    .dataframe thead th {\n",
       "        text-align: right;\n",
       "    }\n",
       "</style>\n",
       "<table border=\"1\" class=\"dataframe\">\n",
       "  <thead>\n",
       "    <tr style=\"text-align: right;\">\n",
       "      <th></th>\n",
       "      <th>id_player</th>\n",
       "      <th>name</th>\n",
       "      <th>sex</th>\n",
       "      <th>country</th>\n",
       "      <th>birth_year</th>\n",
       "    </tr>\n",
       "  </thead>\n",
       "  <tbody>\n",
       "    <tr>\n",
       "      <th>119</th>\n",
       "      <td>122570.0</td>\n",
       "      <td>Mubarak Shannan Zayid</td>\n",
       "      <td>M</td>\n",
       "      <td>Null</td>\n",
       "      <td>1995.0</td>\n",
       "    </tr>\n",
       "    <tr>\n",
       "      <th>130</th>\n",
       "      <td>106325.0</td>\n",
       "      <td>Jabor Al Mutawa</td>\n",
       "      <td>M</td>\n",
       "      <td>Null</td>\n",
       "      <td>1996.0</td>\n",
       "    </tr>\n",
       "    <tr>\n",
       "      <th>138</th>\n",
       "      <td>110476.0</td>\n",
       "      <td>Mousa Shanan Zayed</td>\n",
       "      <td>M</td>\n",
       "      <td>Null</td>\n",
       "      <td>1994.0</td>\n",
       "    </tr>\n",
       "    <tr>\n",
       "      <th>1600</th>\n",
       "      <td>206431.0</td>\n",
       "      <td>Andressa Cristina Souza</td>\n",
       "      <td>F</td>\n",
       "      <td>Null</td>\n",
       "      <td>1998.0</td>\n",
       "    </tr>\n",
       "    <tr>\n",
       "      <th>1601</th>\n",
       "      <td>220265.0</td>\n",
       "      <td>Soizette Simmons</td>\n",
       "      <td>F</td>\n",
       "      <td>Null</td>\n",
       "      <td>1989.0</td>\n",
       "    </tr>\n",
       "    <tr>\n",
       "      <th>...</th>\n",
       "      <td>...</td>\n",
       "      <td>...</td>\n",
       "      <td>...</td>\n",
       "      <td>...</td>\n",
       "      <td>...</td>\n",
       "    </tr>\n",
       "    <tr>\n",
       "      <th>9971</th>\n",
       "      <td>223104.0</td>\n",
       "      <td>Alise Vindiga</td>\n",
       "      <td>F</td>\n",
       "      <td>Null</td>\n",
       "      <td>1997.0</td>\n",
       "    </tr>\n",
       "    <tr>\n",
       "      <th>10006</th>\n",
       "      <td>223434.0</td>\n",
       "      <td>Jhilik Chakma</td>\n",
       "      <td>F</td>\n",
       "      <td>Null</td>\n",
       "      <td>1997.0</td>\n",
       "    </tr>\n",
       "    <tr>\n",
       "      <th>10048</th>\n",
       "      <td>223027.0</td>\n",
       "      <td>Maria Jose Da Costa</td>\n",
       "      <td>F</td>\n",
       "      <td>Null</td>\n",
       "      <td>1997.0</td>\n",
       "    </tr>\n",
       "    <tr>\n",
       "      <th>10097</th>\n",
       "      <td>223315.0</td>\n",
       "      <td>Dilara Sultanova</td>\n",
       "      <td>F</td>\n",
       "      <td>Null</td>\n",
       "      <td>1997.0</td>\n",
       "    </tr>\n",
       "    <tr>\n",
       "      <th>6761</th>\n",
       "      <td>NaN</td>\n",
       "      <td>NaN</td>\n",
       "      <td>NaN</td>\n",
       "      <td>Null</td>\n",
       "      <td>NaN</td>\n",
       "    </tr>\n",
       "  </tbody>\n",
       "</table>\n",
       "<p>203 rows × 5 columns</p>\n",
       "</div>"
      ],
      "text/plain": [
       "       id_player                     name  sex country  birth_year\n",
       "119     122570.0    Mubarak Shannan Zayid    M    Null      1995.0\n",
       "130     106325.0          Jabor Al Mutawa    M    Null      1996.0\n",
       "138     110476.0       Mousa Shanan Zayed    M    Null      1994.0\n",
       "1600    206431.0  Andressa Cristina Souza    F    Null      1998.0\n",
       "1601    220265.0         Soizette Simmons    F    Null      1989.0\n",
       "...          ...                      ...  ...     ...         ...\n",
       "9971    223104.0            Alise Vindiga    F    Null      1997.0\n",
       "10006   223434.0            Jhilik Chakma    F    Null      1997.0\n",
       "10048   223027.0      Maria Jose Da Costa    F    Null      1997.0\n",
       "10097   223315.0         Dilara Sultanova    F    Null      1997.0\n",
       "6761         NaN                      NaN  NaN    Null         NaN\n",
       "\n",
       "[203 rows x 5 columns]"
      ]
     },
     "execution_count": 240,
     "metadata": {},
     "output_type": "execute_result"
    }
   ],
   "source": [
    "player[player.country == \"Null\"]"
   ]
  },
  {
   "cell_type": "code",
   "execution_count": 241,
   "metadata": {},
   "outputs": [
    {
     "data": {
      "text/plain": [
       "203"
      ]
     },
     "execution_count": 241,
     "metadata": {},
     "output_type": "execute_result"
    }
   ],
   "source": [
    "len(player[player.country == \"Null\"])"
   ]
  },
  {
   "cell_type": "code",
   "execution_count": 242,
   "metadata": {},
   "outputs": [],
   "source": [
    "b = \"USA\"\n",
    "player.loc[player.country == \"Null\",\"country\"] = b"
   ]
  },
  {
   "cell_type": "code",
   "execution_count": 243,
   "metadata": {},
   "outputs": [],
   "source": [
    "player.dropna(inplace=True)"
   ]
  },
  {
   "cell_type": "code",
   "execution_count": 244,
   "metadata": {},
   "outputs": [
    {
     "data": {
      "text/plain": [
       "id_player     0\n",
       "name          0\n",
       "sex           0\n",
       "country       0\n",
       "birth_year    0\n",
       "dtype: int64"
      ]
     },
     "execution_count": 244,
     "metadata": {},
     "output_type": "execute_result"
    }
   ],
   "source": [
    "player.isnull().sum()"
   ]
  },
  {
   "cell_type": "code",
   "execution_count": 245,
   "metadata": {},
   "outputs": [],
   "source": [
    "player.id_player = player.id_player.astype(\"int64\")\n",
    "player.birth_year = player.birth_year.astype(\"int64\")"
   ]
  },
  {
   "cell_type": "code",
   "execution_count": 246,
   "metadata": {},
   "outputs": [
    {
     "name": "stdout",
     "output_type": "stream",
     "text": [
      "<class 'pandas.core.frame.DataFrame'>\n",
      "Int64Index: 10055 entries, 0 to 10103\n",
      "Data columns (total 5 columns):\n",
      "id_player     10055 non-null int64\n",
      "name          10055 non-null object\n",
      "sex           10055 non-null object\n",
      "country       10055 non-null object\n",
      "birth_year    10055 non-null int64\n",
      "dtypes: int64(2), object(3)\n",
      "memory usage: 471.3+ KB\n"
     ]
    }
   ],
   "source": [
    "player.info()"
   ]
  },
  {
   "cell_type": "code",
   "execution_count": 247,
   "metadata": {},
   "outputs": [
    {
     "data": {
      "text/html": [
       "<div>\n",
       "<style scoped>\n",
       "    .dataframe tbody tr th:only-of-type {\n",
       "        vertical-align: middle;\n",
       "    }\n",
       "\n",
       "    .dataframe tbody tr th {\n",
       "        vertical-align: top;\n",
       "    }\n",
       "\n",
       "    .dataframe thead th {\n",
       "        text-align: right;\n",
       "    }\n",
       "</style>\n",
       "<table border=\"1\" class=\"dataframe\">\n",
       "  <thead>\n",
       "    <tr style=\"text-align: right;\">\n",
       "      <th></th>\n",
       "      <th>id_player</th>\n",
       "      <th>name</th>\n",
       "      <th>sex</th>\n",
       "      <th>country</th>\n",
       "      <th>birth_year</th>\n",
       "    </tr>\n",
       "  </thead>\n",
       "  <tbody>\n",
       "    <tr>\n",
       "      <th>0</th>\n",
       "      <td>105453</td>\n",
       "      <td>Kei Nishikori</td>\n",
       "      <td>M</td>\n",
       "      <td>JPN</td>\n",
       "      <td>1989</td>\n",
       "    </tr>\n",
       "    <tr>\n",
       "      <th>1</th>\n",
       "      <td>106421</td>\n",
       "      <td>Daniil Medvedev</td>\n",
       "      <td>M</td>\n",
       "      <td>RUS</td>\n",
       "      <td>1995</td>\n",
       "    </tr>\n",
       "    <tr>\n",
       "      <th>2</th>\n",
       "      <td>104542</td>\n",
       "      <td>Jo-Wilfried Tsonga</td>\n",
       "      <td>M</td>\n",
       "      <td>FRA</td>\n",
       "      <td>1985</td>\n",
       "    </tr>\n",
       "    <tr>\n",
       "      <th>3</th>\n",
       "      <td>104871</td>\n",
       "      <td>Jeremy Chardy</td>\n",
       "      <td>M</td>\n",
       "      <td>FRA</td>\n",
       "      <td>1986</td>\n",
       "    </tr>\n",
       "    <tr>\n",
       "      <th>4</th>\n",
       "      <td>200282</td>\n",
       "      <td>Alex De Minaur</td>\n",
       "      <td>M</td>\n",
       "      <td>AUS</td>\n",
       "      <td>1999</td>\n",
       "    </tr>\n",
       "    <tr>\n",
       "      <th>...</th>\n",
       "      <td>...</td>\n",
       "      <td>...</td>\n",
       "      <td>...</td>\n",
       "      <td>...</td>\n",
       "      <td>...</td>\n",
       "    </tr>\n",
       "    <tr>\n",
       "      <th>10099</th>\n",
       "      <td>203535</td>\n",
       "      <td>Sultan Gonen</td>\n",
       "      <td>F</td>\n",
       "      <td>TUR</td>\n",
       "      <td>1996</td>\n",
       "    </tr>\n",
       "    <tr>\n",
       "      <th>10100</th>\n",
       "      <td>223075</td>\n",
       "      <td>Madeleine Jessup</td>\n",
       "      <td>F</td>\n",
       "      <td>USA</td>\n",
       "      <td>1997</td>\n",
       "    </tr>\n",
       "    <tr>\n",
       "      <th>10101</th>\n",
       "      <td>223216</td>\n",
       "      <td>Katie Codd</td>\n",
       "      <td>F</td>\n",
       "      <td>USA</td>\n",
       "      <td>1997</td>\n",
       "    </tr>\n",
       "    <tr>\n",
       "      <th>10102</th>\n",
       "      <td>223217</td>\n",
       "      <td>Amy Huang</td>\n",
       "      <td>F</td>\n",
       "      <td>USA</td>\n",
       "      <td>1997</td>\n",
       "    </tr>\n",
       "    <tr>\n",
       "      <th>10103</th>\n",
       "      <td>223451</td>\n",
       "      <td>Chloe Henderson</td>\n",
       "      <td>F</td>\n",
       "      <td>USA</td>\n",
       "      <td>1997</td>\n",
       "    </tr>\n",
       "  </tbody>\n",
       "</table>\n",
       "<p>10055 rows × 5 columns</p>\n",
       "</div>"
      ],
      "text/plain": [
       "       id_player                name sex country  birth_year\n",
       "0         105453       Kei Nishikori   M     JPN        1989\n",
       "1         106421     Daniil Medvedev   M     RUS        1995\n",
       "2         104542  Jo-Wilfried Tsonga   M     FRA        1985\n",
       "3         104871       Jeremy Chardy   M     FRA        1986\n",
       "4         200282      Alex De Minaur   M     AUS        1999\n",
       "...          ...                 ...  ..     ...         ...\n",
       "10099     203535        Sultan Gonen   F     TUR        1996\n",
       "10100     223075    Madeleine Jessup   F     USA        1997\n",
       "10101     223216          Katie Codd   F     USA        1997\n",
       "10102     223217           Amy Huang   F     USA        1997\n",
       "10103     223451     Chloe Henderson   F     USA        1997\n",
       "\n",
       "[10055 rows x 5 columns]"
      ]
     },
     "execution_count": 247,
     "metadata": {},
     "output_type": "execute_result"
    }
   ],
   "source": [
    "player"
   ]
  },
  {
   "cell_type": "code",
   "execution_count": 248,
   "metadata": {},
   "outputs": [],
   "source": [
    "player.to_csv('C://Users//bonin//csv_files//player_cleaned.csv',index = False)"
   ]
  },
  {
   "cell_type": "code",
   "execution_count": null,
   "metadata": {},
   "outputs": [],
   "source": []
  },
  {
   "cell_type": "code",
   "execution_count": null,
   "metadata": {},
   "outputs": [],
   "source": []
  }
 ],
 "metadata": {
  "kernelspec": {
   "display_name": "Python 3",
   "language": "python",
   "name": "python3"
  },
  "language_info": {
   "codemirror_mode": {
    "name": "ipython",
    "version": 3
   },
   "file_extension": ".py",
   "mimetype": "text/x-python",
   "name": "python",
   "nbconvert_exporter": "python",
   "pygments_lexer": "ipython3",
   "version": "3.7.4"
  }
 },
 "nbformat": 4,
 "nbformat_minor": 2
}
